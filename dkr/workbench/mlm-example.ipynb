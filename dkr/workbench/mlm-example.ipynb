{
 "cells": [
  {
   "cell_type": "markdown",
   "id": "41578d37-134d-4600-a288-a6f95b94ed37",
   "metadata": {},
   "source": [
    "https://mc-stan.org/users/documentation/case-studies/radon.html"
   ]
  },
  {
   "cell_type": "code",
   "execution_count": 151,
   "id": "3e18cbe6-f7af-4fc1-b784-f1a868ba2bc0",
   "metadata": {},
   "outputs": [],
   "source": [
    "%matplotlib inline\n",
    "import numpy as np\n",
    "import pandas as pd\n",
    "import matplotlib.pyplot as plt\n",
    "import seaborn as sns; sns.set_context('notebook')\n",
    "import cmdstanpy as stan\n",
    "import arviz as az"
   ]
  },
  {
   "cell_type": "markdown",
   "id": "2b6f1f62-9d34-4afe-87ab-83ae071f6af2",
   "metadata": {},
   "source": [
    "First, we import the data from a local file, and extract Minnesota's data."
   ]
  },
  {
   "cell_type": "code",
   "execution_count": 2,
   "id": "14ee69d5-c822-41d4-9d31-96041ca7e5d6",
   "metadata": {},
   "outputs": [],
   "source": [
    "# Import radon data\n",
    "srrs2 = pd.read_csv('data/srrs2.dat')"
   ]
  },
  {
   "cell_type": "code",
   "execution_count": 3,
   "id": "95b5bdcf-3f00-4346-9df9-b78a39b23a18",
   "metadata": {},
   "outputs": [
    {
     "data": {
      "text/html": [
       "<div>\n",
       "<style scoped>\n",
       "    .dataframe tbody tr th:only-of-type {\n",
       "        vertical-align: middle;\n",
       "    }\n",
       "\n",
       "    .dataframe tbody tr th {\n",
       "        vertical-align: top;\n",
       "    }\n",
       "\n",
       "    .dataframe thead th {\n",
       "        text-align: right;\n",
       "    }\n",
       "</style>\n",
       "<table border=\"1\" class=\"dataframe\">\n",
       "  <thead>\n",
       "    <tr style=\"text-align: right;\">\n",
       "      <th></th>\n",
       "      <th>idnum</th>\n",
       "      <th>state</th>\n",
       "      <th>state2</th>\n",
       "      <th>stfips</th>\n",
       "      <th>zip</th>\n",
       "      <th>region</th>\n",
       "      <th>typebldg</th>\n",
       "      <th>floor</th>\n",
       "      <th>room</th>\n",
       "      <th>basement</th>\n",
       "      <th>...</th>\n",
       "      <th>stoptm</th>\n",
       "      <th>startdt</th>\n",
       "      <th>stopdt</th>\n",
       "      <th>activity</th>\n",
       "      <th>pcterr</th>\n",
       "      <th>adjwt</th>\n",
       "      <th>dupflag</th>\n",
       "      <th>zipflag</th>\n",
       "      <th>cntyfips</th>\n",
       "      <th>county</th>\n",
       "    </tr>\n",
       "  </thead>\n",
       "  <tbody>\n",
       "    <tr>\n",
       "      <th>0</th>\n",
       "      <td>1</td>\n",
       "      <td>AZ</td>\n",
       "      <td>AZ</td>\n",
       "      <td>4</td>\n",
       "      <td>85920</td>\n",
       "      <td>1</td>\n",
       "      <td>1</td>\n",
       "      <td>1</td>\n",
       "      <td>2</td>\n",
       "      <td>N</td>\n",
       "      <td>...</td>\n",
       "      <td>1100</td>\n",
       "      <td>112987</td>\n",
       "      <td>120287</td>\n",
       "      <td>0.3</td>\n",
       "      <td>0.0</td>\n",
       "      <td>136.060971</td>\n",
       "      <td>0</td>\n",
       "      <td>0</td>\n",
       "      <td>1</td>\n",
       "      <td>APACHE</td>\n",
       "    </tr>\n",
       "    <tr>\n",
       "      <th>1</th>\n",
       "      <td>2</td>\n",
       "      <td>AZ</td>\n",
       "      <td>AZ</td>\n",
       "      <td>4</td>\n",
       "      <td>85920</td>\n",
       "      <td>1</td>\n",
       "      <td>0</td>\n",
       "      <td>9</td>\n",
       "      <td>0</td>\n",
       "      <td></td>\n",
       "      <td>...</td>\n",
       "      <td>700</td>\n",
       "      <td>70788</td>\n",
       "      <td>71188</td>\n",
       "      <td>0.6</td>\n",
       "      <td>33.3</td>\n",
       "      <td>128.784975</td>\n",
       "      <td>0</td>\n",
       "      <td>0</td>\n",
       "      <td>1</td>\n",
       "      <td>APACHE</td>\n",
       "    </tr>\n",
       "    <tr>\n",
       "      <th>2</th>\n",
       "      <td>3</td>\n",
       "      <td>AZ</td>\n",
       "      <td>AZ</td>\n",
       "      <td>4</td>\n",
       "      <td>85924</td>\n",
       "      <td>1</td>\n",
       "      <td>1</td>\n",
       "      <td>1</td>\n",
       "      <td>3</td>\n",
       "      <td>N</td>\n",
       "      <td>...</td>\n",
       "      <td>1145</td>\n",
       "      <td>70788</td>\n",
       "      <td>70788</td>\n",
       "      <td>0.5</td>\n",
       "      <td>0.0</td>\n",
       "      <td>150.245112</td>\n",
       "      <td>0</td>\n",
       "      <td>0</td>\n",
       "      <td>1</td>\n",
       "      <td>APACHE</td>\n",
       "    </tr>\n",
       "    <tr>\n",
       "      <th>3</th>\n",
       "      <td>4</td>\n",
       "      <td>AZ</td>\n",
       "      <td>AZ</td>\n",
       "      <td>4</td>\n",
       "      <td>85925</td>\n",
       "      <td>1</td>\n",
       "      <td>1</td>\n",
       "      <td>1</td>\n",
       "      <td>3</td>\n",
       "      <td>N</td>\n",
       "      <td>...</td>\n",
       "      <td>1900</td>\n",
       "      <td>52088</td>\n",
       "      <td>52288</td>\n",
       "      <td>0.6</td>\n",
       "      <td>97.2</td>\n",
       "      <td>136.060971</td>\n",
       "      <td>0</td>\n",
       "      <td>0</td>\n",
       "      <td>1</td>\n",
       "      <td>APACHE</td>\n",
       "    </tr>\n",
       "    <tr>\n",
       "      <th>4</th>\n",
       "      <td>5</td>\n",
       "      <td>AZ</td>\n",
       "      <td>AZ</td>\n",
       "      <td>4</td>\n",
       "      <td>85932</td>\n",
       "      <td>1</td>\n",
       "      <td>1</td>\n",
       "      <td>1</td>\n",
       "      <td>1</td>\n",
       "      <td>N</td>\n",
       "      <td>...</td>\n",
       "      <td>900</td>\n",
       "      <td>70788</td>\n",
       "      <td>70788</td>\n",
       "      <td>0.3</td>\n",
       "      <td>0.0</td>\n",
       "      <td>136.060971</td>\n",
       "      <td>0</td>\n",
       "      <td>0</td>\n",
       "      <td>1</td>\n",
       "      <td>APACHE</td>\n",
       "    </tr>\n",
       "  </tbody>\n",
       "</table>\n",
       "<p>5 rows × 25 columns</p>\n",
       "</div>"
      ],
      "text/plain": [
       "   idnum  state  state2   stfips    zip   region   typebldg   floor   room  \\\n",
       "0      1     AZ      AZ        4  85920        1          1       1      2   \n",
       "1      2     AZ      AZ        4  85920        1          0       9      0   \n",
       "2      3     AZ      AZ        4  85924        1          1       1      3   \n",
       "3      4     AZ      AZ        4  85925        1          1       1      3   \n",
       "4      5     AZ      AZ        4  85932        1          1       1      1   \n",
       "\n",
       "   basement  ...  stoptm  startdt   stopdt  activity   pcterr       adjwt  \\\n",
       "0         N  ...    1100   112987   120287       0.3      0.0  136.060971   \n",
       "1            ...     700    70788    71188       0.6     33.3  128.784975   \n",
       "2         N  ...    1145    70788    70788       0.5      0.0  150.245112   \n",
       "3         N  ...    1900    52088    52288       0.6     97.2  136.060971   \n",
       "4         N  ...     900    70788    70788       0.3      0.0  136.060971   \n",
       "\n",
       "    dupflag   zipflag   cntyfips                county  \n",
       "0         0         0          1  APACHE                \n",
       "1         0         0          1  APACHE                \n",
       "2         0         0          1  APACHE                \n",
       "3         0         0          1  APACHE                \n",
       "4         0         0          1  APACHE                \n",
       "\n",
       "[5 rows x 25 columns]"
      ]
     },
     "execution_count": 3,
     "metadata": {},
     "output_type": "execute_result"
    }
   ],
   "source": [
    "srrs2.head()"
   ]
  },
  {
   "cell_type": "code",
   "execution_count": 4,
   "id": "1eef2da9-44dd-4560-a4ac-5d9cf65282fc",
   "metadata": {},
   "outputs": [],
   "source": [
    "srrs2.columns = srrs2.columns.map(str.strip)\n",
    "srrs_mn = srrs2.assign(fips=srrs2.stfips*1000 + srrs2.cntyfips)[srrs2.state=='MN']"
   ]
  },
  {
   "cell_type": "markdown",
   "id": "598454c6-da33-4c10-85d1-f79c57c1b0a7",
   "metadata": {},
   "source": [
    "Next, obtain the county-level predictor, uranium, by combining two variables."
   ]
  },
  {
   "cell_type": "code",
   "execution_count": 6,
   "id": "65734b61-781a-4bbe-ae9d-23adfdd82f52",
   "metadata": {},
   "outputs": [],
   "source": [
    "cty = pd.read_csv('data/cty.dat')\n",
    "cty_mn = cty[cty.st=='MN'].copy()\n",
    "cty_mn[ 'fips'] = 1000*cty_mn.stfips + cty_mn.ctfips"
   ]
  },
  {
   "cell_type": "markdown",
   "id": "2d64f3f4-5abe-4490-a0a2-33da5e16d077",
   "metadata": {},
   "source": [
    "Use the merge method to combine home- and county-level information in a single DataFrame"
   ]
  },
  {
   "cell_type": "code",
   "execution_count": 7,
   "id": "bfdf6aa1-e09d-4ccd-bde5-d18f92bd7df0",
   "metadata": {},
   "outputs": [],
   "source": [
    "srrs_mn = srrs_mn.merge(cty_mn[['fips', 'Uppm']], on='fips')\n",
    "srrs_mn = srrs_mn.drop_duplicates(subset='idnum')\n",
    "u = np.log(srrs_mn.Uppm)\n",
    "\n",
    "n = len(srrs_mn)"
   ]
  },
  {
   "cell_type": "code",
   "execution_count": 8,
   "id": "80552b80-3ca7-469e-977f-e933b6d66d22",
   "metadata": {},
   "outputs": [
    {
     "data": {
      "text/html": [
       "<div>\n",
       "<style scoped>\n",
       "    .dataframe tbody tr th:only-of-type {\n",
       "        vertical-align: middle;\n",
       "    }\n",
       "\n",
       "    .dataframe tbody tr th {\n",
       "        vertical-align: top;\n",
       "    }\n",
       "\n",
       "    .dataframe thead th {\n",
       "        text-align: right;\n",
       "    }\n",
       "</style>\n",
       "<table border=\"1\" class=\"dataframe\">\n",
       "  <thead>\n",
       "    <tr style=\"text-align: right;\">\n",
       "      <th></th>\n",
       "      <th>idnum</th>\n",
       "      <th>state</th>\n",
       "      <th>state2</th>\n",
       "      <th>stfips</th>\n",
       "      <th>zip</th>\n",
       "      <th>region</th>\n",
       "      <th>typebldg</th>\n",
       "      <th>floor</th>\n",
       "      <th>room</th>\n",
       "      <th>basement</th>\n",
       "      <th>...</th>\n",
       "      <th>stopdt</th>\n",
       "      <th>activity</th>\n",
       "      <th>pcterr</th>\n",
       "      <th>adjwt</th>\n",
       "      <th>dupflag</th>\n",
       "      <th>zipflag</th>\n",
       "      <th>cntyfips</th>\n",
       "      <th>county</th>\n",
       "      <th>fips</th>\n",
       "      <th>Uppm</th>\n",
       "    </tr>\n",
       "  </thead>\n",
       "  <tbody>\n",
       "    <tr>\n",
       "      <th>0</th>\n",
       "      <td>5081</td>\n",
       "      <td>MN</td>\n",
       "      <td>MN</td>\n",
       "      <td>27</td>\n",
       "      <td>55735</td>\n",
       "      <td>5</td>\n",
       "      <td>1</td>\n",
       "      <td>1</td>\n",
       "      <td>3</td>\n",
       "      <td>N</td>\n",
       "      <td>...</td>\n",
       "      <td>12288</td>\n",
       "      <td>2.2</td>\n",
       "      <td>9.7</td>\n",
       "      <td>1146.499190</td>\n",
       "      <td>1</td>\n",
       "      <td>0</td>\n",
       "      <td>1</td>\n",
       "      <td>AITKIN</td>\n",
       "      <td>27001</td>\n",
       "      <td>0.502054</td>\n",
       "    </tr>\n",
       "    <tr>\n",
       "      <th>1</th>\n",
       "      <td>5082</td>\n",
       "      <td>MN</td>\n",
       "      <td>MN</td>\n",
       "      <td>27</td>\n",
       "      <td>55748</td>\n",
       "      <td>5</td>\n",
       "      <td>1</td>\n",
       "      <td>0</td>\n",
       "      <td>4</td>\n",
       "      <td>Y</td>\n",
       "      <td>...</td>\n",
       "      <td>12088</td>\n",
       "      <td>2.2</td>\n",
       "      <td>14.5</td>\n",
       "      <td>471.366223</td>\n",
       "      <td>0</td>\n",
       "      <td>0</td>\n",
       "      <td>1</td>\n",
       "      <td>AITKIN</td>\n",
       "      <td>27001</td>\n",
       "      <td>0.502054</td>\n",
       "    </tr>\n",
       "    <tr>\n",
       "      <th>2</th>\n",
       "      <td>5083</td>\n",
       "      <td>MN</td>\n",
       "      <td>MN</td>\n",
       "      <td>27</td>\n",
       "      <td>55748</td>\n",
       "      <td>5</td>\n",
       "      <td>1</td>\n",
       "      <td>0</td>\n",
       "      <td>4</td>\n",
       "      <td>Y</td>\n",
       "      <td>...</td>\n",
       "      <td>21188</td>\n",
       "      <td>2.9</td>\n",
       "      <td>9.6</td>\n",
       "      <td>433.316718</td>\n",
       "      <td>0</td>\n",
       "      <td>0</td>\n",
       "      <td>1</td>\n",
       "      <td>AITKIN</td>\n",
       "      <td>27001</td>\n",
       "      <td>0.502054</td>\n",
       "    </tr>\n",
       "    <tr>\n",
       "      <th>3</th>\n",
       "      <td>5084</td>\n",
       "      <td>MN</td>\n",
       "      <td>MN</td>\n",
       "      <td>27</td>\n",
       "      <td>56469</td>\n",
       "      <td>5</td>\n",
       "      <td>1</td>\n",
       "      <td>0</td>\n",
       "      <td>4</td>\n",
       "      <td>Y</td>\n",
       "      <td>...</td>\n",
       "      <td>123187</td>\n",
       "      <td>1.0</td>\n",
       "      <td>24.3</td>\n",
       "      <td>461.623670</td>\n",
       "      <td>0</td>\n",
       "      <td>0</td>\n",
       "      <td>1</td>\n",
       "      <td>AITKIN</td>\n",
       "      <td>27001</td>\n",
       "      <td>0.502054</td>\n",
       "    </tr>\n",
       "    <tr>\n",
       "      <th>4</th>\n",
       "      <td>5085</td>\n",
       "      <td>MN</td>\n",
       "      <td>MN</td>\n",
       "      <td>27</td>\n",
       "      <td>55011</td>\n",
       "      <td>3</td>\n",
       "      <td>1</td>\n",
       "      <td>0</td>\n",
       "      <td>4</td>\n",
       "      <td>Y</td>\n",
       "      <td>...</td>\n",
       "      <td>13088</td>\n",
       "      <td>3.1</td>\n",
       "      <td>13.8</td>\n",
       "      <td>433.316718</td>\n",
       "      <td>0</td>\n",
       "      <td>0</td>\n",
       "      <td>3</td>\n",
       "      <td>ANOKA</td>\n",
       "      <td>27003</td>\n",
       "      <td>0.428565</td>\n",
       "    </tr>\n",
       "  </tbody>\n",
       "</table>\n",
       "<p>5 rows × 27 columns</p>\n",
       "</div>"
      ],
      "text/plain": [
       "   idnum state state2  stfips    zip  region  typebldg  floor  room basement  \\\n",
       "0   5081    MN     MN      27  55735       5         1      1     3        N   \n",
       "1   5082    MN     MN      27  55748       5         1      0     4        Y   \n",
       "2   5083    MN     MN      27  55748       5         1      0     4        Y   \n",
       "3   5084    MN     MN      27  56469       5         1      0     4        Y   \n",
       "4   5085    MN     MN      27  55011       3         1      0     4        Y   \n",
       "\n",
       "   ...  stopdt activity  pcterr        adjwt  dupflag  zipflag  cntyfips  \\\n",
       "0  ...   12288      2.2     9.7  1146.499190        1        0         1   \n",
       "1  ...   12088      2.2    14.5   471.366223        0        0         1   \n",
       "2  ...   21188      2.9     9.6   433.316718        0        0         1   \n",
       "3  ...  123187      1.0    24.3   461.623670        0        0         1   \n",
       "4  ...   13088      3.1    13.8   433.316718        0        0         3   \n",
       "\n",
       "                 county   fips      Uppm  \n",
       "0  AITKIN                27001  0.502054  \n",
       "1  AITKIN                27001  0.502054  \n",
       "2  AITKIN                27001  0.502054  \n",
       "3  AITKIN                27001  0.502054  \n",
       "4  ANOKA                 27003  0.428565  \n",
       "\n",
       "[5 rows x 27 columns]"
      ]
     },
     "execution_count": 8,
     "metadata": {},
     "output_type": "execute_result"
    }
   ],
   "source": [
    "srrs_mn.head()\n"
   ]
  },
  {
   "cell_type": "markdown",
   "id": "521533d2-47a3-42a6-94ba-a071e146d854",
   "metadata": {},
   "source": [
    "We also need a lookup table (dict) for each unique county, for indexing."
   ]
  },
  {
   "cell_type": "code",
   "execution_count": 9,
   "id": "8a9e490c-e778-4d87-9032-03f0216a6ddc",
   "metadata": {},
   "outputs": [],
   "source": [
    "srrs_mn.county = srrs_mn.county.str.strip()\n",
    "mn_counties = srrs_mn.county.unique()\n",
    "counties = len(mn_counties)"
   ]
  },
  {
   "cell_type": "code",
   "execution_count": 10,
   "id": "df2ab4cc-9e55-46a9-942e-874785391a48",
   "metadata": {},
   "outputs": [
    {
     "data": {
      "text/plain": [
       "85"
      ]
     },
     "execution_count": 10,
     "metadata": {},
     "output_type": "execute_result"
    }
   ],
   "source": [
    "counties"
   ]
  },
  {
   "cell_type": "markdown",
   "id": "3a6be8cd-e59c-4c54-954c-04de6e1064ca",
   "metadata": {},
   "source": [
    "Finally, create local copies of variables."
   ]
  },
  {
   "cell_type": "code",
   "execution_count": 11,
   "id": "7268ca93-0a98-4cc0-921a-45d5b7234155",
   "metadata": {},
   "outputs": [],
   "source": [
    "county_lookup = dict(zip(mn_counties, range(len(mn_counties))))\n",
    "county = srrs_mn['county_code'] = srrs_mn.county.replace(county_lookup).values\n",
    "radon = srrs_mn.activity\n",
    "srrs_mn['log_radon'] = log_radon = np.log(radon + 0.1).values\n",
    "floor_measure = srrs_mn.floor.values"
   ]
  },
  {
   "cell_type": "markdown",
   "id": "e0efb8ee-258f-4cf4-913b-85470a5623c0",
   "metadata": {},
   "source": [
    "Distribution of radon levels in MN (natural scale):"
   ]
  },
  {
   "cell_type": "code",
   "execution_count": 13,
   "id": "93d5ca6a-3ceb-441d-a6f4-b8c58e0d61fc",
   "metadata": {},
   "outputs": [
    {
     "data": {
      "text/plain": [
       "<AxesSubplot:>"
      ]
     },
     "execution_count": 13,
     "metadata": {},
     "output_type": "execute_result"
    },
    {
     "data": {
      "image/png": "[encoded data removed]",
      "text/plain": [
       "<Figure size 432x288 with 1 Axes>"
      ]
     },
     "metadata": {
      "needs_background": "light"
     },
     "output_type": "display_data"
    }
   ],
   "source": [
    "srrs_mn.activity.hist(bins=25)"
   ]
  },
  {
   "cell_type": "code",
   "execution_count": 12,
   "id": "6753e07f-d36a-45ce-abfb-e94513819585",
   "metadata": {},
   "outputs": [
    {
     "data": {
      "text/plain": [
       "<AxesSubplot:>"
      ]
     },
     "execution_count": 12,
     "metadata": {},
     "output_type": "execute_result"
    },
    {
     "data": {
      "image/png": "[encoded data removed]",
      "text/plain": [
       "<Figure size 432x288 with 1 Axes>"
      ]
     },
     "metadata": {
      "needs_background": "light"
     },
     "output_type": "display_data"
    }
   ],
   "source": [
    "srrs_mn.activity.apply(lambda x: np.log(x+0.1)).hist(bins=25)"
   ]
  },
  {
   "cell_type": "markdown",
   "id": "a5009192-5b48-4f31-91d4-70b190f90299",
   "metadata": {},
   "source": [
    "Conventional approaches\n",
    "The two conventional alternatives to modeling radon exposure represent the two extremes of the bias-variance tradeoff:\n",
    "Complete pooling:\n",
    "Treat all counties the same, and estimate a single radon level.\n",
    "yi=α+βxi+ϵi\n",
    " \n",
    "No pooling:\n",
    "Model radon in each county independently.\n",
    "yi=αj[i]+βxi+ϵi\n",
    " \n",
    "where  j=1,…,85\n",
    " \n",
    "The errors  ϵi\n",
    "  may represent measurement error, temporal within-house variation, or variation among houses.\n",
    "To specify this model in Stan, we begin by constructing the data block, which includes vectors of log-radon measurements (y) and floor measurement covariates (x), as well as the number of samples (N)."
   ]
  },
  {
   "cell_type": "markdown",
   "id": "67452377-347d-49c9-9793-7f1c8fd5a079",
   "metadata": {},
   "source": [
    "## Model with Stan\n",
    "First bring in and compile your model"
   ]
  },
  {
   "cell_type": "code",
   "execution_count": 47,
   "id": "192af6ea-49f0-4b5a-81e1-1b00d2e325a0",
   "metadata": {},
   "outputs": [
    {
     "name": "stderr",
     "output_type": "stream",
     "text": [
      "INFO:cmdstanpy:compiling stan program, exe file: /Users/steve/code/stan/stanspace/dkr/workbench/models/radon_pooled\n",
      "INFO:cmdstanpy:compiler options: stanc_options=None, cpp_options=None\n",
      "INFO:cmdstanpy:compiled model file: /Users/steve/code/stan/stanspace/dkr/workbench/models/radon_pooled\n"
     ]
    }
   ],
   "source": [
    "sm = stan.CmdStanModel(stan_file='models/radon_pooled.stan')"
   ]
  },
  {
   "cell_type": "markdown",
   "id": "cfd49247-96a7-4d54-a6e0-c139c386a663",
   "metadata": {},
   "source": [
    "## Complete pooling"
   ]
  },
  {
   "cell_type": "code",
   "execution_count": 17,
   "id": "2c3a920d-7420-4c6b-9e80-17cd72325dd7",
   "metadata": {},
   "outputs": [
    {
     "name": "stdout",
     "output_type": "stream",
     "text": [
      "data {\n",
      "    int<lower=0> N;\n",
      "    vector[N] x;\n",
      "    vector[N] y;\n",
      "}\n",
      "\n",
      "parameters {\n",
      "    vector[2] beta;\n",
      "    real<lower=0> sigma;\n",
      "}\n",
      "\n",
      "model {\n",
      "    y ~ normal(beta[1] + beta[2] * x, sigma);\n",
      "}\n"
     ]
    }
   ],
   "source": [
    "print(sm.code())"
   ]
  },
  {
   "cell_type": "code",
   "execution_count": 18,
   "id": "6e9e0de5-07e3-4f63-82ee-4b8633e775cb",
   "metadata": {},
   "outputs": [],
   "source": [
    "dt = {\n",
    "    'N': len(log_radon),\n",
    "    'x': floor_measure,\n",
    "    'y': log_radon\n",
    "}"
   ]
  },
  {
   "cell_type": "code",
   "execution_count": 28,
   "id": "1d6bc749-4a6f-465e-abc3-f6da214704bf",
   "metadata": {},
   "outputs": [
    {
     "data": {
      "text/plain": [
       "count    919.000000\n",
       "mean       0.166485\n",
       "std        0.372719\n",
       "min        0.000000\n",
       "25%        0.000000\n",
       "50%        0.000000\n",
       "75%        0.000000\n",
       "max        1.000000\n",
       "dtype: float64"
      ]
     },
     "execution_count": 28,
     "metadata": {},
     "output_type": "execute_result"
    }
   ],
   "source": [
    "pd.Series(dt['x']).describe()"
   ]
  },
  {
   "cell_type": "code",
   "execution_count": 29,
   "id": "1397496b-6206-405c-aef1-ff998abef494",
   "metadata": {},
   "outputs": [
    {
     "data": {
      "text/plain": [
       "count    919.000000\n",
       "mean       1.264779\n",
       "std        0.819355\n",
       "min       -2.302585\n",
       "25%        0.693147\n",
       "50%        1.308333\n",
       "75%        1.808289\n",
       "max        3.877432\n",
       "dtype: float64"
      ]
     },
     "execution_count": 29,
     "metadata": {},
     "output_type": "execute_result"
    }
   ],
   "source": [
    "pd.Series(dt['y']).describe()"
   ]
  },
  {
   "cell_type": "code",
   "execution_count": 31,
   "id": "d6566b47-eeb3-4347-ba4c-79e6cd4b43de",
   "metadata": {},
   "outputs": [
    {
     "name": "stderr",
     "output_type": "stream",
     "text": [
      "INFO:cmdstanpy:start chain 1\n",
      "INFO:cmdstanpy:start chain 2\n",
      "INFO:cmdstanpy:finish chain 1\n",
      "INFO:cmdstanpy:finish chain 2\n"
     ]
    }
   ],
   "source": [
    "sm_fit = sm.sample(\n",
    "    data=dt, \n",
    "    output_dir = 'output',\n",
    "    chains=2,\n",
    "    iter_warmup=1000,\n",
    "    iter_sampling=1000\n",
    ")"
   ]
  },
  {
   "cell_type": "markdown",
   "id": "d626c48f-82bc-403e-a557-dda4c0f49ebc",
   "metadata": {},
   "source": [
    "I'm assuming here that I should throw away the warm-up samples so I start the index at `[1000:]`"
   ]
  },
  {
   "cell_type": "code",
   "execution_count": 38,
   "id": "ca5e25be-5418-4d3c-88cc-d9fbaac972d5",
   "metadata": {},
   "outputs": [],
   "source": [
    "sm_posterior = sm_fit.draws_pd([\"beta\"])[1000:]"
   ]
  },
  {
   "cell_type": "code",
   "execution_count": 39,
   "id": "2004338b-f44e-4e56-960c-5546a385d033",
   "metadata": {},
   "outputs": [
    {
     "data": {
      "text/html": [
       "<div>\n",
       "<style scoped>\n",
       "    .dataframe tbody tr th:only-of-type {\n",
       "        vertical-align: middle;\n",
       "    }\n",
       "\n",
       "    .dataframe tbody tr th {\n",
       "        vertical-align: top;\n",
       "    }\n",
       "\n",
       "    .dataframe thead th {\n",
       "        text-align: right;\n",
       "    }\n",
       "</style>\n",
       "<table border=\"1\" class=\"dataframe\">\n",
       "  <thead>\n",
       "    <tr style=\"text-align: right;\">\n",
       "      <th></th>\n",
       "      <th>beta[1]</th>\n",
       "      <th>beta[2]</th>\n",
       "    </tr>\n",
       "  </thead>\n",
       "  <tbody>\n",
       "    <tr>\n",
       "      <th>1000</th>\n",
       "      <td>1.29098</td>\n",
       "      <td>-0.506325</td>\n",
       "    </tr>\n",
       "    <tr>\n",
       "      <th>1001</th>\n",
       "      <td>1.35910</td>\n",
       "      <td>-0.489985</td>\n",
       "    </tr>\n",
       "    <tr>\n",
       "      <th>1002</th>\n",
       "      <td>1.34290</td>\n",
       "      <td>-0.537095</td>\n",
       "    </tr>\n",
       "    <tr>\n",
       "      <th>1003</th>\n",
       "      <td>1.36895</td>\n",
       "      <td>-0.686560</td>\n",
       "    </tr>\n",
       "    <tr>\n",
       "      <th>1004</th>\n",
       "      <td>1.38569</td>\n",
       "      <td>-0.573129</td>\n",
       "    </tr>\n",
       "    <tr>\n",
       "      <th>...</th>\n",
       "      <td>...</td>\n",
       "      <td>...</td>\n",
       "    </tr>\n",
       "    <tr>\n",
       "      <th>1995</th>\n",
       "      <td>1.38279</td>\n",
       "      <td>-0.623607</td>\n",
       "    </tr>\n",
       "    <tr>\n",
       "      <th>1996</th>\n",
       "      <td>1.39208</td>\n",
       "      <td>-0.645572</td>\n",
       "    </tr>\n",
       "    <tr>\n",
       "      <th>1997</th>\n",
       "      <td>1.34911</td>\n",
       "      <td>-0.549161</td>\n",
       "    </tr>\n",
       "    <tr>\n",
       "      <th>1998</th>\n",
       "      <td>1.38039</td>\n",
       "      <td>-0.624395</td>\n",
       "    </tr>\n",
       "    <tr>\n",
       "      <th>1999</th>\n",
       "      <td>1.38504</td>\n",
       "      <td>-0.633913</td>\n",
       "    </tr>\n",
       "  </tbody>\n",
       "</table>\n",
       "<p>1000 rows × 2 columns</p>\n",
       "</div>"
      ],
      "text/plain": [
       "      beta[1]   beta[2]\n",
       "1000  1.29098 -0.506325\n",
       "1001  1.35910 -0.489985\n",
       "1002  1.34290 -0.537095\n",
       "1003  1.36895 -0.686560\n",
       "1004  1.38569 -0.573129\n",
       "...       ...       ...\n",
       "1995  1.38279 -0.623607\n",
       "1996  1.39208 -0.645572\n",
       "1997  1.34911 -0.549161\n",
       "1998  1.38039 -0.624395\n",
       "1999  1.38504 -0.633913\n",
       "\n",
       "[1000 rows x 2 columns]"
      ]
     },
     "execution_count": 39,
     "metadata": {},
     "output_type": "execute_result"
    }
   ],
   "source": [
    "sm_posterior"
   ]
  },
  {
   "cell_type": "markdown",
   "id": "58a91037-4c93-49e6-a9e6-693f601b5e7b",
   "metadata": {},
   "source": [
    "The sample can be extracted for plotting and summarization."
   ]
  },
  {
   "cell_type": "code",
   "execution_count": 40,
   "id": "344b24b0-fb80-4888-923d-55d234aa63ab",
   "metadata": {},
   "outputs": [],
   "source": [
    "b0, m0 = sm_posterior.T.mean(1)"
   ]
  },
  {
   "cell_type": "code",
   "execution_count": 44,
   "id": "34bd0059-ad6b-4c67-be37-6cb1c7f99f95",
   "metadata": {},
   "outputs": [
    {
     "data": {
      "text/plain": [
       "[<matplotlib.lines.Line2D at 0x1437c3460>]"
      ]
     },
     "execution_count": 44,
     "metadata": {},
     "output_type": "execute_result"
    },
    {
     "data": {
      "image/png": "[encoded data removed]",
      "text/plain": [
       "<Figure size 432x288 with 1 Axes>"
      ]
     },
     "metadata": {
      "needs_background": "light"
     },
     "output_type": "display_data"
    }
   ],
   "source": [
    "plt.scatter(srrs_mn.floor, np.log(srrs_mn.activity+0.1))\n",
    "xvals = np.linspace(-0.2, 1.2)\n",
    "plt.plot(xvals, b0 + m0*xvals, 'r--')"
   ]
  },
  {
   "cell_type": "markdown",
   "id": "3cbfce00-f02a-47d3-8e6d-75e1bb6f6ece",
   "metadata": {},
   "source": [
    "So the model above does complete pooling (i.e. ignores all the within county correlation) and just estimates two means (one for each floor)\n",
    "\n",
    "Complete pooling:\n",
    "\n",
    "Treat all counties the same, and estimate a single radon level.\n",
    "\n",
    "`yi=α+βxi+ϵi`\n",
    " \n"
   ]
  },
  {
   "cell_type": "markdown",
   "id": "a32de31c-05ff-4314-b19a-dfe68772d869",
   "metadata": {},
   "source": [
    "## Fixed effects"
   ]
  },
  {
   "cell_type": "code",
   "execution_count": 176,
   "id": "a3c60380-87cf-4382-9fe1-682c7c018467",
   "metadata": {},
   "outputs": [],
   "source": [
    "unpooled_data = {'N': len(log_radon),\n",
    "               'county': county+1, # Stan counts starting at 1\n",
    "               'x': floor_measure,\n",
    "               'y': log_radon}\n"
   ]
  },
  {
   "cell_type": "code",
   "execution_count": 177,
   "id": "df44d813-6e87-4f42-aded-36f6c7721833",
   "metadata": {},
   "outputs": [
    {
     "name": "stderr",
     "output_type": "stream",
     "text": [
      "INFO:cmdstanpy:found newer exe file, not recompiling\n",
      "INFO:cmdstanpy:compiled model file: /Users/steve/code/stan/stanspace/dkr/workbench/models/radon_fixed\n"
     ]
    }
   ],
   "source": [
    "sm_fixed = stan.CmdStanModel(stan_file='models/radon_fixed.stan')"
   ]
  },
  {
   "cell_type": "code",
   "execution_count": 178,
   "id": "3acf0fed-a82f-4242-b761-ae787fdb0b86",
   "metadata": {},
   "outputs": [
    {
     "name": "stdout",
     "output_type": "stream",
     "text": [
      "// fixed effects approach\n",
      "// separate mean for each county\n",
      "data {\n",
      "  int<lower=0> N; \n",
      "  int<lower=1,upper=85> county[N];\n",
      "  vector[N] x;\n",
      "  vector[N] y;\n",
      "} \n",
      "parameters {\n",
      "  vector[85] a;\n",
      "  real beta;\n",
      "  real<lower=0,upper=100> sigma;\n",
      "} \n",
      "transformed parameters {\n",
      "  vector[N] y_hat;\n",
      "\n",
      "  for (i in 1:N)\n",
      "    y_hat[i] <- beta * x[i] + a[county[i]];\n",
      "}\n",
      "model {\n",
      "  y ~ normal(y_hat, sigma);\n",
      "}\n"
     ]
    }
   ],
   "source": [
    "print(sm_fixed.code())"
   ]
  },
  {
   "cell_type": "code",
   "execution_count": 179,
   "id": "41719001-7b98-423c-8dd7-0224c72983af",
   "metadata": {},
   "outputs": [
    {
     "name": "stderr",
     "output_type": "stream",
     "text": [
      "INFO:cmdstanpy:start chain 1\n",
      "INFO:cmdstanpy:start chain 2\n",
      "INFO:cmdstanpy:finish chain 1\n",
      "INFO:cmdstanpy:finish chain 2\n"
     ]
    }
   ],
   "source": [
    "sm_fixed_fit = sm_fixed.sample(\n",
    "    data=unpooled_data, \n",
    "    output_dir = 'output',\n",
    "    chains=2,\n",
    "    iter_warmup=1000,\n",
    "    iter_sampling=1000\n",
    ")"
   ]
  },
  {
   "cell_type": "code",
   "execution_count": 199,
   "id": "1fd67f77-7565-401f-a42d-c11040dc8d36",
   "metadata": {},
   "outputs": [
    {
     "data": {
      "text/html": [
       "<div>\n",
       "<style scoped>\n",
       "    .dataframe tbody tr th:only-of-type {\n",
       "        vertical-align: middle;\n",
       "    }\n",
       "\n",
       "    .dataframe tbody tr th {\n",
       "        vertical-align: top;\n",
       "    }\n",
       "\n",
       "    .dataframe thead th {\n",
       "        text-align: right;\n",
       "    }\n",
       "</style>\n",
       "<table border=\"1\" class=\"dataframe\">\n",
       "  <thead>\n",
       "    <tr style=\"text-align: right;\">\n",
       "      <th></th>\n",
       "      <th>a[1]</th>\n",
       "      <th>a[2]</th>\n",
       "      <th>a[3]</th>\n",
       "      <th>a[4]</th>\n",
       "      <th>a[5]</th>\n",
       "      <th>a[6]</th>\n",
       "      <th>a[7]</th>\n",
       "      <th>a[8]</th>\n",
       "      <th>a[9]</th>\n",
       "      <th>a[10]</th>\n",
       "      <th>...</th>\n",
       "      <th>a[76]</th>\n",
       "      <th>a[77]</th>\n",
       "      <th>a[78]</th>\n",
       "      <th>a[79]</th>\n",
       "      <th>a[80]</th>\n",
       "      <th>a[81]</th>\n",
       "      <th>a[82]</th>\n",
       "      <th>a[83]</th>\n",
       "      <th>a[84]</th>\n",
       "      <th>a[85]</th>\n",
       "    </tr>\n",
       "  </thead>\n",
       "  <tbody>\n",
       "    <tr>\n",
       "      <th>1000</th>\n",
       "      <td>0.428724</td>\n",
       "      <td>0.868878</td>\n",
       "      <td>2.11532</td>\n",
       "      <td>1.46000</td>\n",
       "      <td>1.37931</td>\n",
       "      <td>1.35226</td>\n",
       "      <td>2.02063</td>\n",
       "      <td>2.10238</td>\n",
       "      <td>0.797209</td>\n",
       "      <td>1.18427</td>\n",
       "      <td>...</td>\n",
       "      <td>1.99383</td>\n",
       "      <td>1.40650</td>\n",
       "      <td>1.53206</td>\n",
       "      <td>0.805658</td>\n",
       "      <td>1.37991</td>\n",
       "      <td>1.87827</td>\n",
       "      <td>2.21093</td>\n",
       "      <td>1.89047</td>\n",
       "      <td>1.62477</td>\n",
       "      <td>0.829111</td>\n",
       "    </tr>\n",
       "    <tr>\n",
       "      <th>1001</th>\n",
       "      <td>1.047240</td>\n",
       "      <td>1.079210</td>\n",
       "      <td>1.18376</td>\n",
       "      <td>2.08208</td>\n",
       "      <td>1.26307</td>\n",
       "      <td>1.62585</td>\n",
       "      <td>2.36256</td>\n",
       "      <td>2.27698</td>\n",
       "      <td>1.327030</td>\n",
       "      <td>1.87877</td>\n",
       "      <td>...</td>\n",
       "      <td>2.12185</td>\n",
       "      <td>1.77536</td>\n",
       "      <td>1.11825</td>\n",
       "      <td>-0.007875</td>\n",
       "      <td>1.38492</td>\n",
       "      <td>2.15267</td>\n",
       "      <td>2.31853</td>\n",
       "      <td>1.24316</td>\n",
       "      <td>1.87148</td>\n",
       "      <td>0.189064</td>\n",
       "    </tr>\n",
       "    <tr>\n",
       "      <th>1002</th>\n",
       "      <td>0.946077</td>\n",
       "      <td>0.873374</td>\n",
       "      <td>1.60439</td>\n",
       "      <td>1.64610</td>\n",
       "      <td>1.39462</td>\n",
       "      <td>1.80938</td>\n",
       "      <td>1.99228</td>\n",
       "      <td>2.02941</td>\n",
       "      <td>1.006400</td>\n",
       "      <td>1.13335</td>\n",
       "      <td>...</td>\n",
       "      <td>1.40477</td>\n",
       "      <td>1.59374</td>\n",
       "      <td>1.27309</td>\n",
       "      <td>0.195319</td>\n",
       "      <td>1.30675</td>\n",
       "      <td>3.00001</td>\n",
       "      <td>1.09937</td>\n",
       "      <td>1.70151</td>\n",
       "      <td>1.93195</td>\n",
       "      <td>1.016910</td>\n",
       "    </tr>\n",
       "    <tr>\n",
       "      <th>1003</th>\n",
       "      <td>0.998932</td>\n",
       "      <td>0.963757</td>\n",
       "      <td>1.40545</td>\n",
       "      <td>1.51091</td>\n",
       "      <td>1.28083</td>\n",
       "      <td>1.31696</td>\n",
       "      <td>1.96558</td>\n",
       "      <td>1.97383</td>\n",
       "      <td>1.100730</td>\n",
       "      <td>1.86226</td>\n",
       "      <td>...</td>\n",
       "      <td>2.58829</td>\n",
       "      <td>2.06161</td>\n",
       "      <td>1.39920</td>\n",
       "      <td>0.843042</td>\n",
       "      <td>1.42070</td>\n",
       "      <td>2.14883</td>\n",
       "      <td>2.80279</td>\n",
       "      <td>1.56006</td>\n",
       "      <td>1.47751</td>\n",
       "      <td>1.411490</td>\n",
       "    </tr>\n",
       "    <tr>\n",
       "      <th>1004</th>\n",
       "      <td>1.158770</td>\n",
       "      <td>1.035140</td>\n",
       "      <td>1.78880</td>\n",
       "      <td>1.53851</td>\n",
       "      <td>1.65077</td>\n",
       "      <td>1.18351</td>\n",
       "      <td>1.89453</td>\n",
       "      <td>2.32298</td>\n",
       "      <td>1.032230</td>\n",
       "      <td>1.83757</td>\n",
       "      <td>...</td>\n",
       "      <td>2.64035</td>\n",
       "      <td>1.96069</td>\n",
       "      <td>1.64211</td>\n",
       "      <td>0.782498</td>\n",
       "      <td>1.40896</td>\n",
       "      <td>2.18960</td>\n",
       "      <td>2.69185</td>\n",
       "      <td>1.64699</td>\n",
       "      <td>1.59011</td>\n",
       "      <td>1.707140</td>\n",
       "    </tr>\n",
       "  </tbody>\n",
       "</table>\n",
       "<p>5 rows × 85 columns</p>\n",
       "</div>"
      ],
      "text/plain": [
       "          a[1]      a[2]     a[3]     a[4]     a[5]     a[6]     a[7]  \\\n",
       "1000  0.428724  0.868878  2.11532  1.46000  1.37931  1.35226  2.02063   \n",
       "1001  1.047240  1.079210  1.18376  2.08208  1.26307  1.62585  2.36256   \n",
       "1002  0.946077  0.873374  1.60439  1.64610  1.39462  1.80938  1.99228   \n",
       "1003  0.998932  0.963757  1.40545  1.51091  1.28083  1.31696  1.96558   \n",
       "1004  1.158770  1.035140  1.78880  1.53851  1.65077  1.18351  1.89453   \n",
       "\n",
       "         a[8]      a[9]    a[10]  ...    a[76]    a[77]    a[78]     a[79]  \\\n",
       "1000  2.10238  0.797209  1.18427  ...  1.99383  1.40650  1.53206  0.805658   \n",
       "1001  2.27698  1.327030  1.87877  ...  2.12185  1.77536  1.11825 -0.007875   \n",
       "1002  2.02941  1.006400  1.13335  ...  1.40477  1.59374  1.27309  0.195319   \n",
       "1003  1.97383  1.100730  1.86226  ...  2.58829  2.06161  1.39920  0.843042   \n",
       "1004  2.32298  1.032230  1.83757  ...  2.64035  1.96069  1.64211  0.782498   \n",
       "\n",
       "        a[80]    a[81]    a[82]    a[83]    a[84]     a[85]  \n",
       "1000  1.37991  1.87827  2.21093  1.89047  1.62477  0.829111  \n",
       "1001  1.38492  2.15267  2.31853  1.24316  1.87148  0.189064  \n",
       "1002  1.30675  3.00001  1.09937  1.70151  1.93195  1.016910  \n",
       "1003  1.42070  2.14883  2.80279  1.56006  1.47751  1.411490  \n",
       "1004  1.40896  2.18960  2.69185  1.64699  1.59011  1.707140  \n",
       "\n",
       "[5 rows x 85 columns]"
      ]
     },
     "execution_count": 199,
     "metadata": {},
     "output_type": "execute_result"
    }
   ],
   "source": [
    "sm_fixed_posterior_a = sm_fixed_fit.draws_pd([\"a\"])[1000:]\n",
    "sm_fixed_posterior_a.head()"
   ]
  },
  {
   "cell_type": "code",
   "execution_count": 192,
   "id": "7d88dccb-f9e9-42f0-a458-6c961c547d25",
   "metadata": {},
   "outputs": [],
   "source": [
    "unpooled_estimates = pd.Series(sm_fixed_posterior_a.mean(0).values, index=mn_counties)"
   ]
  },
  {
   "cell_type": "code",
   "execution_count": 193,
   "id": "2dfc60f8-426e-445a-9d5f-b6b40a4ec953",
   "metadata": {},
   "outputs": [],
   "source": [
    "unpooled_se = pd.Series(sm_fixed_posterior_a.std(0).values, index=mn_counties)"
   ]
  },
  {
   "cell_type": "code",
   "execution_count": 194,
   "id": "f9249861-51d3-42cc-b7d7-5686cca4e12e",
   "metadata": {},
   "outputs": [
    {
     "data": {
      "image/png": "[encoded data removed]",
      "text/plain": [
       "<Figure size 432x288 with 1 Axes>"
      ]
     },
     "metadata": {
      "needs_background": "light"
     },
     "output_type": "display_data"
    }
   ],
   "source": [
    "order = unpooled_estimates.sort_values().index\n",
    "\n",
    "plt.scatter(range(len(unpooled_estimates)), unpooled_estimates[order])\n",
    "for i, m, se in zip(range(len(unpooled_estimates)), unpooled_estimates[order], unpooled_se[order]):\n",
    "    plt.plot([i,i], [m-se, m+se], 'b-')\n",
    "plt.xlim(-1,86); plt.ylim(-1,4)\n",
    "plt.ylabel('Radon estimate');plt.xlabel('Ordered county');\n"
   ]
  },
  {
   "cell_type": "markdown",
   "id": "042ef098-c373-4785-ac56-320e52afbdbd",
   "metadata": {},
   "source": [
    "Here are visual comparisons between the pooled and unpooled estimates for a subset of counties representing a range of sample sizes."
   ]
  },
  {
   "cell_type": "code",
   "execution_count": 195,
   "id": "dc6994c2-cdf0-407d-a273-2dddd3f7d6ee",
   "metadata": {},
   "outputs": [
    {
     "data": {
      "text/html": [
       "<div>\n",
       "<style scoped>\n",
       "    .dataframe tbody tr th:only-of-type {\n",
       "        vertical-align: middle;\n",
       "    }\n",
       "\n",
       "    .dataframe tbody tr th {\n",
       "        vertical-align: top;\n",
       "    }\n",
       "\n",
       "    .dataframe thead th {\n",
       "        text-align: right;\n",
       "    }\n",
       "</style>\n",
       "<table border=\"1\" class=\"dataframe\">\n",
       "  <thead>\n",
       "    <tr style=\"text-align: right;\">\n",
       "      <th></th>\n",
       "      <th>beta</th>\n",
       "    </tr>\n",
       "  </thead>\n",
       "  <tbody>\n",
       "    <tr>\n",
       "      <th>1000</th>\n",
       "      <td>-0.695172</td>\n",
       "    </tr>\n",
       "    <tr>\n",
       "      <th>1001</th>\n",
       "      <td>-0.670754</td>\n",
       "    </tr>\n",
       "    <tr>\n",
       "      <th>1002</th>\n",
       "      <td>-0.741997</td>\n",
       "    </tr>\n",
       "    <tr>\n",
       "      <th>1003</th>\n",
       "      <td>-0.581957</td>\n",
       "    </tr>\n",
       "    <tr>\n",
       "      <th>1004</th>\n",
       "      <td>-0.632423</td>\n",
       "    </tr>\n",
       "    <tr>\n",
       "      <th>...</th>\n",
       "      <td>...</td>\n",
       "    </tr>\n",
       "    <tr>\n",
       "      <th>1995</th>\n",
       "      <td>-0.666950</td>\n",
       "    </tr>\n",
       "    <tr>\n",
       "      <th>1996</th>\n",
       "      <td>-0.690007</td>\n",
       "    </tr>\n",
       "    <tr>\n",
       "      <th>1997</th>\n",
       "      <td>-0.734275</td>\n",
       "    </tr>\n",
       "    <tr>\n",
       "      <th>1998</th>\n",
       "      <td>-0.683836</td>\n",
       "    </tr>\n",
       "    <tr>\n",
       "      <th>1999</th>\n",
       "      <td>-0.564547</td>\n",
       "    </tr>\n",
       "  </tbody>\n",
       "</table>\n",
       "<p>1000 rows × 1 columns</p>\n",
       "</div>"
      ],
      "text/plain": [
       "          beta\n",
       "1000 -0.695172\n",
       "1001 -0.670754\n",
       "1002 -0.741997\n",
       "1003 -0.581957\n",
       "1004 -0.632423\n",
       "...        ...\n",
       "1995 -0.666950\n",
       "1996 -0.690007\n",
       "1997 -0.734275\n",
       "1998 -0.683836\n",
       "1999 -0.564547\n",
       "\n",
       "[1000 rows x 1 columns]"
      ]
     },
     "execution_count": 195,
     "metadata": {},
     "output_type": "execute_result"
    }
   ],
   "source": [
    "sm_fixed_fit.draws_pd([\"beta\"])[1000:]"
   ]
  },
  {
   "cell_type": "code",
   "execution_count": 196,
   "id": "75a6b766-9616-4911-a550-71621676c3f8",
   "metadata": {},
   "outputs": [
    {
     "name": "stdout",
     "output_type": "stream",
     "text": [
      "-0.686358184\n"
     ]
    }
   ],
   "source": [
    "sm_fixed_posterior_beta = sm_fixed_fit.draws_pd([\"beta\"])[1000:]\n",
    "m = sm_fixed_posterior_beta.mean(0)[0] # extract index 0 to convert to scalar\n",
    "print(m)"
   ]
  },
  {
   "cell_type": "code",
   "execution_count": 197,
   "id": "2aba0e3f-7d4d-4924-a6cd-50132de42b8f",
   "metadata": {},
   "outputs": [
    {
     "data": {
      "image/png": "[encoded data removed]",
      "text/plain": [
       "<Figure size 864x432 with 8 Axes>"
      ]
     },
     "metadata": {
      "needs_background": "light"
     },
     "output_type": "display_data"
    }
   ],
   "source": [
    "sample_counties = ('LAC QUI PARLE', 'AITKIN', 'KOOCHICHING', \n",
    "                    'DOUGLAS', 'CLAY', 'STEARNS', 'RAMSEY', 'ST LOUIS')\n",
    "\n",
    "fig, axes = plt.subplots(2, 4, figsize=(12, 6), sharey=True, sharex=True)\n",
    "axes = axes.ravel()\n",
    "for i,c in enumerate(sample_counties):\n",
    "    y = srrs_mn.log_radon[srrs_mn.county==c]\n",
    "    x = srrs_mn.floor[srrs_mn.county==c]\n",
    "    axes[i].scatter(x + np.random.randn(len(x))*0.01, y, alpha=0.4)\n",
    "    \n",
    "    # No pooling model\n",
    "    b = unpooled_estimates[c]\n",
    "    \n",
    "    # Plot both models and data\n",
    "    xvals = np.linspace(-0.2, 1.2)\n",
    "    axes[i].plot(xvals, m*xvals+b)\n",
    "    axes[i].plot(xvals, m0*xvals+b0, 'r--')\n",
    "    axes[i].set_xticks([0,1])\n",
    "    axes[i].set_xticklabels(['basement', 'floor'])\n",
    "    axes[i].set_ylim(-1, 3)\n",
    "    axes[i].set_title(c)\n",
    "    if not i%2:\n",
    "        axes[i].set_ylabel('log radon level')"
   ]
  },
  {
   "cell_type": "markdown",
   "id": "d8ed07ec-3f2e-4ca3-b40c-66105c534f4d",
   "metadata": {},
   "source": [
    "Neither of these models are satisfactory:\n",
    "if we are trying to identify high-radon counties, pooling is useless\n",
    "we do not trust extreme unpooled estimates produced by models using few observations"
   ]
  },
  {
   "cell_type": "markdown",
   "id": "e39d5d8a-2b0d-431c-a968-df71aa4595a4",
   "metadata": {},
   "source": [
    "When we pool our data, we imply that they are sampled from the same model. This ignores any variation among sampling units (other than sampling variance):\n",
    "pooled\n",
    "When we analyze data unpooled, we imply that they are sampled independently from separate models. At the opposite extreme from the pooled case, this approach claims that differences between sampling units are to large to combine them:\n",
    "unpooled\n",
    "In a hierarchical model, parameters are viewed as a sample from a population distribution of parameters. Thus, we view them as being neither entirely different or exactly the same. This is parital pooling.\n",
    "hierarchical\n",
    "We can use PyStan to easily specify multilevel models, and fit them using Hamiltonian Monte Carlo."
   ]
  },
  {
   "cell_type": "markdown",
   "id": "e6516dc9-970e-4292-9613-433a981e18bf",
   "metadata": {},
   "source": [
    "## Partial pooling model\n",
    "The simplest partial pooling model for the household radon dataset is one which simply estimates radon levels, without any predictors at any level. A partial pooling model represents a compromise between the pooled and unpooled extremes, approximately a weighted average (based on sample size) of the unpooled county estimates and the pooled estimates."
   ]
  },
  {
   "cell_type": "markdown",
   "id": "634fb0a6-e9be-4108-9a9c-dd18e119d69f",
   "metadata": {},
   "source": [
    "`α̂ ≈(nj/σ2y)y¯j+(1/σ2α)y¯(nj/σ2y)+(1/σ2α)`\n",
    " \n"
   ]
  },
  {
   "cell_type": "markdown",
   "id": "ecc59743-a340-452a-81fe-699c49ceb001",
   "metadata": {},
   "source": [
    "- Estimates for counties with smaller sample sizes will shrink towards the state-wide average.\n",
    "- Estimates for counties with larger sample sizes will be closer to the unpooled county estimates."
   ]
  },
  {
   "cell_type": "code",
   "execution_count": 129,
   "id": "828abede-2900-499f-8732-b2bc16d926fd",
   "metadata": {},
   "outputs": [
    {
     "name": "stderr",
     "output_type": "stream",
     "text": [
      "INFO:cmdstanpy:found newer exe file, not recompiling\n",
      "INFO:cmdstanpy:compiled model file: /Users/steve/code/stan/stanspace/dkr/workbench/models/radon_pp\n"
     ]
    }
   ],
   "source": [
    "sm_pp = stan.CmdStanModel(stan_file='models/radon_pp.stan')"
   ]
  },
  {
   "cell_type": "code",
   "execution_count": 97,
   "id": "b618c6e7-0708-48a3-93a8-820e009a75d5",
   "metadata": {},
   "outputs": [],
   "source": [
    "partial_pool_data = {'N': len(log_radon),\n",
    "               'county': county+1, # Stan counts starting at 1\n",
    "               'y': log_radon}"
   ]
  },
  {
   "cell_type": "code",
   "execution_count": 130,
   "id": "07b61459-9588-4761-9f00-e440fee0e02f",
   "metadata": {},
   "outputs": [
    {
     "name": "stderr",
     "output_type": "stream",
     "text": [
      "INFO:cmdstanpy:start chain 1\n",
      "INFO:cmdstanpy:start chain 2\n",
      "INFO:cmdstanpy:finish chain 1\n",
      "INFO:cmdstanpy:finish chain 2\n"
     ]
    }
   ],
   "source": [
    "sm_pp_fit = sm_pp.sample(\n",
    "    data=partial_pool_data, \n",
    "    output_dir = 'output',\n",
    "    chains=2,\n",
    "    iter_warmup=1000,\n",
    "    iter_sampling=1000\n",
    ")"
   ]
  },
  {
   "cell_type": "code",
   "execution_count": 131,
   "id": "5b212a51-46ee-4c0e-810f-1a2aab703373",
   "metadata": {},
   "outputs": [
    {
     "data": {
      "text/html": [
       "<div>\n",
       "<style scoped>\n",
       "    .dataframe tbody tr th:only-of-type {\n",
       "        vertical-align: middle;\n",
       "    }\n",
       "\n",
       "    .dataframe tbody tr th {\n",
       "        vertical-align: top;\n",
       "    }\n",
       "\n",
       "    .dataframe thead th {\n",
       "        text-align: right;\n",
       "    }\n",
       "</style>\n",
       "<table border=\"1\" class=\"dataframe\">\n",
       "  <thead>\n",
       "    <tr style=\"text-align: right;\">\n",
       "      <th></th>\n",
       "      <th>a[1]</th>\n",
       "      <th>a[2]</th>\n",
       "      <th>a[3]</th>\n",
       "      <th>a[4]</th>\n",
       "      <th>a[5]</th>\n",
       "      <th>a[6]</th>\n",
       "      <th>a[7]</th>\n",
       "      <th>a[8]</th>\n",
       "      <th>a[9]</th>\n",
       "      <th>a[10]</th>\n",
       "      <th>...</th>\n",
       "      <th>a[76]</th>\n",
       "      <th>a[77]</th>\n",
       "      <th>a[78]</th>\n",
       "      <th>a[79]</th>\n",
       "      <th>a[80]</th>\n",
       "      <th>a[81]</th>\n",
       "      <th>a[82]</th>\n",
       "      <th>a[83]</th>\n",
       "      <th>a[84]</th>\n",
       "      <th>a[85]</th>\n",
       "    </tr>\n",
       "  </thead>\n",
       "  <tbody>\n",
       "    <tr>\n",
       "      <th>1000</th>\n",
       "      <td>0.839417</td>\n",
       "      <td>0.922726</td>\n",
       "      <td>1.15230</td>\n",
       "      <td>1.189540</td>\n",
       "      <td>1.069410</td>\n",
       "      <td>1.527800</td>\n",
       "      <td>1.82603</td>\n",
       "      <td>1.48888</td>\n",
       "      <td>1.313640</td>\n",
       "      <td>1.24358</td>\n",
       "      <td>...</td>\n",
       "      <td>1.57221</td>\n",
       "      <td>1.52183</td>\n",
       "      <td>1.03162</td>\n",
       "      <td>1.148310</td>\n",
       "      <td>1.28111</td>\n",
       "      <td>1.353440</td>\n",
       "      <td>1.61429</td>\n",
       "      <td>1.48104</td>\n",
       "      <td>1.39498</td>\n",
       "      <td>1.36200</td>\n",
       "    </tr>\n",
       "    <tr>\n",
       "      <th>1001</th>\n",
       "      <td>1.392830</td>\n",
       "      <td>0.922793</td>\n",
       "      <td>1.23146</td>\n",
       "      <td>1.307910</td>\n",
       "      <td>1.403910</td>\n",
       "      <td>1.468540</td>\n",
       "      <td>1.66378</td>\n",
       "      <td>1.45875</td>\n",
       "      <td>1.012130</td>\n",
       "      <td>1.53504</td>\n",
       "      <td>...</td>\n",
       "      <td>1.34052</td>\n",
       "      <td>1.70568</td>\n",
       "      <td>1.12531</td>\n",
       "      <td>1.086100</td>\n",
       "      <td>1.32408</td>\n",
       "      <td>1.602490</td>\n",
       "      <td>1.32180</td>\n",
       "      <td>1.46401</td>\n",
       "      <td>1.57463</td>\n",
       "      <td>1.19696</td>\n",
       "    </tr>\n",
       "    <tr>\n",
       "      <th>1002</th>\n",
       "      <td>0.719161</td>\n",
       "      <td>1.025730</td>\n",
       "      <td>1.37312</td>\n",
       "      <td>1.235050</td>\n",
       "      <td>1.440230</td>\n",
       "      <td>1.337730</td>\n",
       "      <td>1.66302</td>\n",
       "      <td>1.42226</td>\n",
       "      <td>1.331420</td>\n",
       "      <td>1.09470</td>\n",
       "      <td>...</td>\n",
       "      <td>1.52606</td>\n",
       "      <td>1.19066</td>\n",
       "      <td>1.43762</td>\n",
       "      <td>1.103780</td>\n",
       "      <td>1.23806</td>\n",
       "      <td>1.523750</td>\n",
       "      <td>1.43227</td>\n",
       "      <td>1.35800</td>\n",
       "      <td>1.46488</td>\n",
       "      <td>1.35457</td>\n",
       "    </tr>\n",
       "    <tr>\n",
       "      <th>1003</th>\n",
       "      <td>0.872514</td>\n",
       "      <td>0.842682</td>\n",
       "      <td>1.34746</td>\n",
       "      <td>0.868292</td>\n",
       "      <td>1.483370</td>\n",
       "      <td>1.767500</td>\n",
       "      <td>1.62274</td>\n",
       "      <td>1.42860</td>\n",
       "      <td>1.285080</td>\n",
       "      <td>1.24936</td>\n",
       "      <td>...</td>\n",
       "      <td>1.15650</td>\n",
       "      <td>1.14529</td>\n",
       "      <td>1.32413</td>\n",
       "      <td>1.173090</td>\n",
       "      <td>1.21699</td>\n",
       "      <td>1.730540</td>\n",
       "      <td>1.40439</td>\n",
       "      <td>1.30161</td>\n",
       "      <td>1.49699</td>\n",
       "      <td>1.22318</td>\n",
       "    </tr>\n",
       "    <tr>\n",
       "      <th>1004</th>\n",
       "      <td>0.867527</td>\n",
       "      <td>0.853011</td>\n",
       "      <td>1.03517</td>\n",
       "      <td>1.426350</td>\n",
       "      <td>0.781817</td>\n",
       "      <td>0.867291</td>\n",
       "      <td>1.76204</td>\n",
       "      <td>1.62236</td>\n",
       "      <td>0.954577</td>\n",
       "      <td>1.27307</td>\n",
       "      <td>...</td>\n",
       "      <td>1.38416</td>\n",
       "      <td>2.06846</td>\n",
       "      <td>1.27245</td>\n",
       "      <td>0.864188</td>\n",
       "      <td>1.22541</td>\n",
       "      <td>0.960129</td>\n",
       "      <td>1.52729</td>\n",
       "      <td>1.50896</td>\n",
       "      <td>1.57274</td>\n",
       "      <td>1.44294</td>\n",
       "    </tr>\n",
       "  </tbody>\n",
       "</table>\n",
       "<p>5 rows × 85 columns</p>\n",
       "</div>"
      ],
      "text/plain": [
       "          a[1]      a[2]     a[3]      a[4]      a[5]      a[6]     a[7]  \\\n",
       "1000  0.839417  0.922726  1.15230  1.189540  1.069410  1.527800  1.82603   \n",
       "1001  1.392830  0.922793  1.23146  1.307910  1.403910  1.468540  1.66378   \n",
       "1002  0.719161  1.025730  1.37312  1.235050  1.440230  1.337730  1.66302   \n",
       "1003  0.872514  0.842682  1.34746  0.868292  1.483370  1.767500  1.62274   \n",
       "1004  0.867527  0.853011  1.03517  1.426350  0.781817  0.867291  1.76204   \n",
       "\n",
       "         a[8]      a[9]    a[10]  ...    a[76]    a[77]    a[78]     a[79]  \\\n",
       "1000  1.48888  1.313640  1.24358  ...  1.57221  1.52183  1.03162  1.148310   \n",
       "1001  1.45875  1.012130  1.53504  ...  1.34052  1.70568  1.12531  1.086100   \n",
       "1002  1.42226  1.331420  1.09470  ...  1.52606  1.19066  1.43762  1.103780   \n",
       "1003  1.42860  1.285080  1.24936  ...  1.15650  1.14529  1.32413  1.173090   \n",
       "1004  1.62236  0.954577  1.27307  ...  1.38416  2.06846  1.27245  0.864188   \n",
       "\n",
       "        a[80]     a[81]    a[82]    a[83]    a[84]    a[85]  \n",
       "1000  1.28111  1.353440  1.61429  1.48104  1.39498  1.36200  \n",
       "1001  1.32408  1.602490  1.32180  1.46401  1.57463  1.19696  \n",
       "1002  1.23806  1.523750  1.43227  1.35800  1.46488  1.35457  \n",
       "1003  1.21699  1.730540  1.40439  1.30161  1.49699  1.22318  \n",
       "1004  1.22541  0.960129  1.52729  1.50896  1.57274  1.44294  \n",
       "\n",
       "[5 rows x 85 columns]"
      ]
     },
     "execution_count": 131,
     "metadata": {},
     "output_type": "execute_result"
    }
   ],
   "source": [
    "sm_pp_posterior_a = sm_pp_fit.draws_pd([\"a\"])[1000:]\n",
    "sm_pp_posterior_a.head()"
   ]
  },
  {
   "cell_type": "code",
   "execution_count": 134,
   "id": "9b96e62d-c8b4-4715-9284-b17bd10411ef",
   "metadata": {},
   "outputs": [
    {
     "data": {
      "text/plain": [
       "a[1]     1.102172\n",
       "a[2]     0.944573\n",
       "a[3]     1.283132\n",
       "a[4]     1.273954\n",
       "a[5]     1.328776\n",
       "           ...   \n",
       "a[81]    1.640416\n",
       "a[82]    1.473268\n",
       "a[83]    1.448181\n",
       "a[84]    1.526548\n",
       "a[85]    1.332848\n",
       "Length: 85, dtype: float64"
      ]
     },
     "execution_count": 134,
     "metadata": {},
     "output_type": "execute_result"
    }
   ],
   "source": [
    "sm_pp_posterior_a.mean()"
   ]
  },
  {
   "cell_type": "code",
   "execution_count": 138,
   "id": "9d7e853d-8dc9-4db4-8354-2a8a27931107",
   "metadata": {},
   "outputs": [
    {
     "data": {
      "image/png": "[encoded data removed]",
      "text/plain": [
       "<Figure size 1008x432 with 2 Axes>"
      ]
     },
     "metadata": {
      "needs_background": "light"
     },
     "output_type": "display_data"
    }
   ],
   "source": [
    "fig, axes = plt.subplots(1, 2, figsize=(14,6), sharex=True, sharey=True)\n",
    "\n",
    "samples, counties = sm_pp_posterior_a.shape\n",
    "\n",
    "jitter = np.random.normal(scale=0.1, size=counties)\n",
    "\n",
    "n_county = srrs_mn.groupby('county')['idnum'].count()\n",
    "unpooled_means = srrs_mn.groupby('county')['log_radon'].mean()\n",
    "unpooled_sd = srrs_mn.groupby('county')['log_radon'].std()\n",
    "unpooled = pd.DataFrame({'n':n_county, 'm':unpooled_means, 'sd':unpooled_sd})\n",
    "unpooled['se'] = unpooled.sd/np.sqrt(unpooled.n)\n",
    "\n",
    "axes[0].plot(unpooled.n + jitter, unpooled.m, 'b.')\n",
    "\n",
    "for j, row in zip(jitter, unpooled.iterrows()):\n",
    "    name, dat = row\n",
    "    axes[0].plot([dat.n+j,dat.n+j], [dat.m-dat.se, dat.m+dat.se], 'b-')\n",
    "axes[0].set_xscale('log')\n",
    "axes[0].hlines(sm_pp_posterior_a.mean().mean(), 0.9, 100, linestyles='--')\n",
    "\n",
    "means = sm_pp_posterior_a.mean(axis=0)\n",
    "sd = sm_pp_posterior_a.std(axis=0)\n",
    "\n",
    "axes[1].scatter(n_county.values + jitter, means)\n",
    "axes[1].set_xscale('log')\n",
    "axes[1].set_xlim(1,100)\n",
    "axes[1].set_ylim(0, 3)\n",
    "axes[1].hlines(sm_pp_posterior_a.mean().mean(), 0.9, 100, linestyles='--')\n",
    "\n",
    "for j,n,m,s in zip(jitter, n_county.values, means, sd):\n",
    "    axes[1].plot([n+j]*2, [m-s, m+s], 'b-')\n"
   ]
  },
  {
   "cell_type": "markdown",
   "id": "7d7d87b3-2e9b-4451-aede-9175850ada52",
   "metadata": {},
   "source": [
    "## Varying intercept model"
   ]
  },
  {
   "cell_type": "markdown",
   "id": "79d064c2-e694-4174-b23d-8c7463533e0b",
   "metadata": {},
   "source": [
    "This model allows intercepts to vary across county, according to a random effect.\n",
    "\n",
    "`yi=αj[i]+βxi+ϵi`\n",
    " \n",
    "where\n",
    "\n",
    "`ϵi∼N(0,σ2y)`\n",
    " \n",
    "and the intercept random effect:\n",
    "\n",
    "`αj[i]∼N(μα,σ2α)`\n",
    " \n",
    "As with the the “no-pooling” model, we set a separate intercept for each county, but rather than fitting separate least squares regression models for each county, multilevel modeling shares strength among counties, allowing for more reasonable inference in counties with little data."
   ]
  },
  {
   "cell_type": "code",
   "execution_count": 145,
   "id": "7436d52f-572c-4fee-8d8a-e32fd5f87f60",
   "metadata": {},
   "outputs": [
    {
     "name": "stderr",
     "output_type": "stream",
     "text": [
      "INFO:cmdstanpy:compiling stan program, exe file: /Users/steve/code/stan/stanspace/dkr/workbench/models/radon_varying_intercept\n",
      "INFO:cmdstanpy:compiler options: stanc_options=None, cpp_options=None\n",
      "INFO:cmdstanpy:compiled model file: /Users/steve/code/stan/stanspace/dkr/workbench/models/radon_varying_intercept\n"
     ]
    }
   ],
   "source": [
    "sm_vi = stan.CmdStanModel(stan_file='models/radon_varying_intercept.stan')"
   ]
  },
  {
   "cell_type": "code",
   "execution_count": 146,
   "id": "cb5b7306-8d70-4d05-97f0-6b3267442ec0",
   "metadata": {},
   "outputs": [],
   "source": [
    "varying_intercept_data = {'N': len(log_radon),\n",
    "                          'J': len(n_county),\n",
    "                          'county': county+1, # Stan counts starting at 1\n",
    "                          'x': floor_measure,\n",
    "                          'y': log_radon}"
   ]
  },
  {
   "cell_type": "code",
   "execution_count": 147,
   "id": "6493f674-9675-42e9-9169-a17fcf6e7398",
   "metadata": {},
   "outputs": [
    {
     "name": "stderr",
     "output_type": "stream",
     "text": [
      "INFO:cmdstanpy:start chain 1\n",
      "INFO:cmdstanpy:start chain 2\n",
      "INFO:cmdstanpy:finish chain 2\n",
      "INFO:cmdstanpy:finish chain 1\n"
     ]
    }
   ],
   "source": [
    "sm_vi_fit = sm_vi.sample(\n",
    "    data=varying_intercept_data, \n",
    "    output_dir = 'output',\n",
    "    chains=2,\n",
    "    iter_warmup=1000,\n",
    "    iter_sampling=1000\n",
    ")"
   ]
  },
  {
   "cell_type": "code",
   "execution_count": 148,
   "id": "b704e359-4282-427e-ae53-99d8748d06e2",
   "metadata": {},
   "outputs": [
    {
     "data": {
      "text/html": [
       "<div>\n",
       "<style scoped>\n",
       "    .dataframe tbody tr th:only-of-type {\n",
       "        vertical-align: middle;\n",
       "    }\n",
       "\n",
       "    .dataframe tbody tr th {\n",
       "        vertical-align: top;\n",
       "    }\n",
       "\n",
       "    .dataframe thead th {\n",
       "        text-align: right;\n",
       "    }\n",
       "</style>\n",
       "<table border=\"1\" class=\"dataframe\">\n",
       "  <thead>\n",
       "    <tr style=\"text-align: right;\">\n",
       "      <th></th>\n",
       "      <th>a[1]</th>\n",
       "      <th>a[2]</th>\n",
       "      <th>a[3]</th>\n",
       "      <th>a[4]</th>\n",
       "      <th>a[5]</th>\n",
       "      <th>a[6]</th>\n",
       "      <th>a[7]</th>\n",
       "      <th>a[8]</th>\n",
       "      <th>a[9]</th>\n",
       "      <th>a[10]</th>\n",
       "      <th>...</th>\n",
       "      <th>a[76]</th>\n",
       "      <th>a[77]</th>\n",
       "      <th>a[78]</th>\n",
       "      <th>a[79]</th>\n",
       "      <th>a[80]</th>\n",
       "      <th>a[81]</th>\n",
       "      <th>a[82]</th>\n",
       "      <th>a[83]</th>\n",
       "      <th>a[84]</th>\n",
       "      <th>a[85]</th>\n",
       "    </tr>\n",
       "  </thead>\n",
       "  <tbody>\n",
       "    <tr>\n",
       "      <th>1000</th>\n",
       "      <td>1.657880</td>\n",
       "      <td>0.964382</td>\n",
       "      <td>1.96392</td>\n",
       "      <td>1.88730</td>\n",
       "      <td>1.40521</td>\n",
       "      <td>1.15356</td>\n",
       "      <td>1.82595</td>\n",
       "      <td>1.60609</td>\n",
       "      <td>0.94150</td>\n",
       "      <td>1.61384</td>\n",
       "      <td>...</td>\n",
       "      <td>1.79725</td>\n",
       "      <td>1.51457</td>\n",
       "      <td>1.56310</td>\n",
       "      <td>1.382190</td>\n",
       "      <td>1.37518</td>\n",
       "      <td>1.69162</td>\n",
       "      <td>1.54932</td>\n",
       "      <td>1.64366</td>\n",
       "      <td>1.83503</td>\n",
       "      <td>1.25760</td>\n",
       "    </tr>\n",
       "    <tr>\n",
       "      <th>1001</th>\n",
       "      <td>0.796043</td>\n",
       "      <td>0.926881</td>\n",
       "      <td>1.02660</td>\n",
       "      <td>1.40363</td>\n",
       "      <td>1.83057</td>\n",
       "      <td>1.66636</td>\n",
       "      <td>1.89893</td>\n",
       "      <td>1.54110</td>\n",
       "      <td>1.44853</td>\n",
       "      <td>1.74870</td>\n",
       "      <td>...</td>\n",
       "      <td>1.60903</td>\n",
       "      <td>1.60862</td>\n",
       "      <td>1.18629</td>\n",
       "      <td>0.634844</td>\n",
       "      <td>1.45100</td>\n",
       "      <td>2.14399</td>\n",
       "      <td>1.59426</td>\n",
       "      <td>1.73298</td>\n",
       "      <td>1.41794</td>\n",
       "      <td>1.80521</td>\n",
       "    </tr>\n",
       "    <tr>\n",
       "      <th>1002</th>\n",
       "      <td>1.079290</td>\n",
       "      <td>1.021830</td>\n",
       "      <td>1.10607</td>\n",
       "      <td>1.23892</td>\n",
       "      <td>1.42920</td>\n",
       "      <td>1.49042</td>\n",
       "      <td>2.09470</td>\n",
       "      <td>1.80234</td>\n",
       "      <td>1.24377</td>\n",
       "      <td>1.55532</td>\n",
       "      <td>...</td>\n",
       "      <td>1.50998</td>\n",
       "      <td>1.58914</td>\n",
       "      <td>1.26280</td>\n",
       "      <td>1.164870</td>\n",
       "      <td>1.36994</td>\n",
       "      <td>1.79273</td>\n",
       "      <td>1.72122</td>\n",
       "      <td>1.79508</td>\n",
       "      <td>1.93588</td>\n",
       "      <td>1.42558</td>\n",
       "    </tr>\n",
       "    <tr>\n",
       "      <th>1003</th>\n",
       "      <td>1.481940</td>\n",
       "      <td>0.980469</td>\n",
       "      <td>1.96450</td>\n",
       "      <td>1.86368</td>\n",
       "      <td>1.59989</td>\n",
       "      <td>1.62713</td>\n",
       "      <td>1.70708</td>\n",
       "      <td>1.68313</td>\n",
       "      <td>1.23925</td>\n",
       "      <td>1.51108</td>\n",
       "      <td>...</td>\n",
       "      <td>1.89505</td>\n",
       "      <td>1.82651</td>\n",
       "      <td>1.61150</td>\n",
       "      <td>1.292800</td>\n",
       "      <td>1.37722</td>\n",
       "      <td>2.07782</td>\n",
       "      <td>1.60617</td>\n",
       "      <td>1.48088</td>\n",
       "      <td>1.38762</td>\n",
       "      <td>1.49681</td>\n",
       "    </tr>\n",
       "    <tr>\n",
       "      <th>1004</th>\n",
       "      <td>0.989172</td>\n",
       "      <td>1.009860</td>\n",
       "      <td>1.31881</td>\n",
       "      <td>1.09079</td>\n",
       "      <td>1.25916</td>\n",
       "      <td>1.28593</td>\n",
       "      <td>1.97903</td>\n",
       "      <td>1.66028</td>\n",
       "      <td>1.05288</td>\n",
       "      <td>1.83257</td>\n",
       "      <td>...</td>\n",
       "      <td>1.64950</td>\n",
       "      <td>1.70160</td>\n",
       "      <td>1.01157</td>\n",
       "      <td>1.062520</td>\n",
       "      <td>1.36547</td>\n",
       "      <td>1.76219</td>\n",
       "      <td>1.61687</td>\n",
       "      <td>1.63254</td>\n",
       "      <td>1.96953</td>\n",
       "      <td>1.42630</td>\n",
       "    </tr>\n",
       "  </tbody>\n",
       "</table>\n",
       "<p>5 rows × 85 columns</p>\n",
       "</div>"
      ],
      "text/plain": [
       "          a[1]      a[2]     a[3]     a[4]     a[5]     a[6]     a[7]  \\\n",
       "1000  1.657880  0.964382  1.96392  1.88730  1.40521  1.15356  1.82595   \n",
       "1001  0.796043  0.926881  1.02660  1.40363  1.83057  1.66636  1.89893   \n",
       "1002  1.079290  1.021830  1.10607  1.23892  1.42920  1.49042  2.09470   \n",
       "1003  1.481940  0.980469  1.96450  1.86368  1.59989  1.62713  1.70708   \n",
       "1004  0.989172  1.009860  1.31881  1.09079  1.25916  1.28593  1.97903   \n",
       "\n",
       "         a[8]     a[9]    a[10]  ...    a[76]    a[77]    a[78]     a[79]  \\\n",
       "1000  1.60609  0.94150  1.61384  ...  1.79725  1.51457  1.56310  1.382190   \n",
       "1001  1.54110  1.44853  1.74870  ...  1.60903  1.60862  1.18629  0.634844   \n",
       "1002  1.80234  1.24377  1.55532  ...  1.50998  1.58914  1.26280  1.164870   \n",
       "1003  1.68313  1.23925  1.51108  ...  1.89505  1.82651  1.61150  1.292800   \n",
       "1004  1.66028  1.05288  1.83257  ...  1.64950  1.70160  1.01157  1.062520   \n",
       "\n",
       "        a[80]    a[81]    a[82]    a[83]    a[84]    a[85]  \n",
       "1000  1.37518  1.69162  1.54932  1.64366  1.83503  1.25760  \n",
       "1001  1.45100  2.14399  1.59426  1.73298  1.41794  1.80521  \n",
       "1002  1.36994  1.79273  1.72122  1.79508  1.93588  1.42558  \n",
       "1003  1.37722  2.07782  1.60617  1.48088  1.38762  1.49681  \n",
       "1004  1.36547  1.76219  1.61687  1.63254  1.96953  1.42630  \n",
       "\n",
       "[5 rows x 85 columns]"
      ]
     },
     "execution_count": 148,
     "metadata": {},
     "output_type": "execute_result"
    }
   ],
   "source": [
    "# Pystan version\n",
    "# a_sample = pd.DataFrame(varying_intercept_fit['a'])\n",
    "\n",
    "sm_vi_posterior_a = sm_vi_fit.draws_pd([\"a\"])[1000:]\n",
    "sm_vi_posterior_a.head()\n"
   ]
  },
  {
   "cell_type": "code",
   "execution_count": 149,
   "id": "d3d3603e-b8c9-452f-b222-293c1bdec649",
   "metadata": {},
   "outputs": [
    {
     "data": {
      "text/plain": [
       "<AxesSubplot:>"
      ]
     },
     "execution_count": 149,
     "metadata": {},
     "output_type": "execute_result"
    },
    {
     "data": {
      "image/png": "[encoded data removed]",
      "text/plain": [
       "<Figure size 1152x432 with 1 Axes>"
      ]
     },
     "metadata": {},
     "output_type": "display_data"
    }
   ],
   "source": [
    "import seaborn as sns\n",
    "sns.set(style=\"ticks\", palette=\"muted\", color_codes=True)\n",
    "\n",
    "# Plot the orbital period with horizontal boxes\n",
    "plt.figure(figsize=(16, 6))\n",
    "sns.boxplot(data=sm_vi_posterior_a, whis=np.inf, color=\"c\")"
   ]
  },
  {
   "cell_type": "code",
   "execution_count": 152,
   "id": "6f6cd454-1e09-456b-9c8e-563cd1bdff47",
   "metadata": {},
   "outputs": [],
   "source": [
    "samples = az.from_cmdstanpy(posterior=sm_vi_fit)"
   ]
  },
  {
   "cell_type": "code",
   "execution_count": 156,
   "id": "dbb245da-fb08-4457-b558-23a761d70b9f",
   "metadata": {},
   "outputs": [
    {
     "data": {
      "text/plain": [
       "array([[<AxesSubplot:title={'center':'sigma_a'}>,\n",
       "        <AxesSubplot:title={'center':'sigma_a'}>],\n",
       "       [<AxesSubplot:title={'center':'b'}>,\n",
       "        <AxesSubplot:title={'center':'b'}>]], dtype=object)"
      ]
     },
     "execution_count": 156,
     "metadata": {},
     "output_type": "execute_result"
    },
    {
     "data": {
      "image/png": "[encoded data removed]",
      "text/plain": [
       "<Figure size 864x288 with 4 Axes>"
      ]
     },
     "metadata": {
      "needs_background": "light"
     },
     "output_type": "display_data"
    }
   ],
   "source": [
    "az.plot_trace(samples, var_names=['sigma_a', 'b'])"
   ]
  },
  {
   "cell_type": "markdown",
   "id": "0bf08c42-7012-489f-b70d-526e65f931f9",
   "metadata": {},
   "source": [
    "The estimate for the floor coefficient is approximately -0.66, which can be interpreted as houses without basements having about half ( exp(−0.66)=0.52\n",
    " ) the radon levels of those with basements, after accounting for county."
   ]
  },
  {
   "cell_type": "code",
   "execution_count": 162,
   "id": "27ddb26b-5575-4e91-88e5-3e363bff14d3",
   "metadata": {},
   "outputs": [
    {
     "data": {
      "text/plain": [
       "b   -0.661374\n",
       "dtype: float64"
      ]
     },
     "execution_count": 162,
     "metadata": {},
     "output_type": "execute_result"
    }
   ],
   "source": [
    "sm_vi_posterior_b = sm_vi_fit.draws_pd([\"b\"])[1000:]\n",
    "sm_vi_posterior_b.head()\n",
    "sm_vi_posterior_b.mean()\n"
   ]
  },
  {
   "cell_type": "code",
   "execution_count": 172,
   "id": "6c42162f-5452-4dc9-8005-05a4fe2d3886",
   "metadata": {},
   "outputs": [],
   "source": [
    "xvals = np.arange(2)\n",
    "\n",
    "bp = sm_vi_fit.draws_pd([\"a\"])[1000:].mean(axis=0)\n",
    "# note extract value with index 0 at end of line below\n",
    "mp = sm_vi_fit.draws_pd([\"b\"])[1000:].mean()[0]\n",
    "\n",
    "for bi in bp:\n",
    "    plt.plot(xvals, mp*xvals + bi, 'bo-', alpha=0.4)\n",
    "plt.xlim(-0.1,1.1);"
   ]
  },
  {
   "cell_type": "markdown",
   "id": "9ec49b0c-cfa7-4ef8-9361-355470694888",
   "metadata": {},
   "source": [
    "It is easy to show that the partial pooling model provides more objectively reasonable estimates than either the pooled or unpooled models, at least for counties with small sample sizes."
   ]
  },
  {
   "cell_type": "code",
   "execution_count": 202,
   "id": "d2547c8a-2728-4dab-86bc-adeea6997632",
   "metadata": {},
   "outputs": [
    {
     "data": {
      "text/html": [
       "<div>\n",
       "<style scoped>\n",
       "    .dataframe tbody tr th:only-of-type {\n",
       "        vertical-align: middle;\n",
       "    }\n",
       "\n",
       "    .dataframe tbody tr th {\n",
       "        vertical-align: top;\n",
       "    }\n",
       "\n",
       "    .dataframe thead th {\n",
       "        text-align: right;\n",
       "    }\n",
       "</style>\n",
       "<table border=\"1\" class=\"dataframe\">\n",
       "  <thead>\n",
       "    <tr style=\"text-align: right;\">\n",
       "      <th></th>\n",
       "      <th>a[1]</th>\n",
       "      <th>a[2]</th>\n",
       "      <th>a[3]</th>\n",
       "      <th>a[4]</th>\n",
       "      <th>a[5]</th>\n",
       "      <th>a[6]</th>\n",
       "      <th>a[7]</th>\n",
       "      <th>a[8]</th>\n",
       "      <th>a[9]</th>\n",
       "      <th>a[10]</th>\n",
       "      <th>...</th>\n",
       "      <th>a[76]</th>\n",
       "      <th>a[77]</th>\n",
       "      <th>a[78]</th>\n",
       "      <th>a[79]</th>\n",
       "      <th>a[80]</th>\n",
       "      <th>a[81]</th>\n",
       "      <th>a[82]</th>\n",
       "      <th>a[83]</th>\n",
       "      <th>a[84]</th>\n",
       "      <th>a[85]</th>\n",
       "    </tr>\n",
       "  </thead>\n",
       "  <tbody>\n",
       "    <tr>\n",
       "      <th>1000</th>\n",
       "      <td>0.428724</td>\n",
       "      <td>0.868878</td>\n",
       "      <td>2.115320</td>\n",
       "      <td>1.46000</td>\n",
       "      <td>1.37931</td>\n",
       "      <td>1.35226</td>\n",
       "      <td>2.02063</td>\n",
       "      <td>2.10238</td>\n",
       "      <td>0.797209</td>\n",
       "      <td>1.184270</td>\n",
       "      <td>...</td>\n",
       "      <td>1.99383</td>\n",
       "      <td>1.40650</td>\n",
       "      <td>1.532060</td>\n",
       "      <td>0.805658</td>\n",
       "      <td>1.37991</td>\n",
       "      <td>1.87827</td>\n",
       "      <td>2.21093</td>\n",
       "      <td>1.89047</td>\n",
       "      <td>1.62477</td>\n",
       "      <td>0.829111</td>\n",
       "    </tr>\n",
       "    <tr>\n",
       "      <th>1001</th>\n",
       "      <td>1.047240</td>\n",
       "      <td>1.079210</td>\n",
       "      <td>1.183760</td>\n",
       "      <td>2.08208</td>\n",
       "      <td>1.26307</td>\n",
       "      <td>1.62585</td>\n",
       "      <td>2.36256</td>\n",
       "      <td>2.27698</td>\n",
       "      <td>1.327030</td>\n",
       "      <td>1.878770</td>\n",
       "      <td>...</td>\n",
       "      <td>2.12185</td>\n",
       "      <td>1.77536</td>\n",
       "      <td>1.118250</td>\n",
       "      <td>-0.007875</td>\n",
       "      <td>1.38492</td>\n",
       "      <td>2.15267</td>\n",
       "      <td>2.31853</td>\n",
       "      <td>1.24316</td>\n",
       "      <td>1.87148</td>\n",
       "      <td>0.189064</td>\n",
       "    </tr>\n",
       "    <tr>\n",
       "      <th>1002</th>\n",
       "      <td>0.946077</td>\n",
       "      <td>0.873374</td>\n",
       "      <td>1.604390</td>\n",
       "      <td>1.64610</td>\n",
       "      <td>1.39462</td>\n",
       "      <td>1.80938</td>\n",
       "      <td>1.99228</td>\n",
       "      <td>2.02941</td>\n",
       "      <td>1.006400</td>\n",
       "      <td>1.133350</td>\n",
       "      <td>...</td>\n",
       "      <td>1.40477</td>\n",
       "      <td>1.59374</td>\n",
       "      <td>1.273090</td>\n",
       "      <td>0.195319</td>\n",
       "      <td>1.30675</td>\n",
       "      <td>3.00001</td>\n",
       "      <td>1.09937</td>\n",
       "      <td>1.70151</td>\n",
       "      <td>1.93195</td>\n",
       "      <td>1.016910</td>\n",
       "    </tr>\n",
       "    <tr>\n",
       "      <th>1003</th>\n",
       "      <td>0.998932</td>\n",
       "      <td>0.963757</td>\n",
       "      <td>1.405450</td>\n",
       "      <td>1.51091</td>\n",
       "      <td>1.28083</td>\n",
       "      <td>1.31696</td>\n",
       "      <td>1.96558</td>\n",
       "      <td>1.97383</td>\n",
       "      <td>1.100730</td>\n",
       "      <td>1.862260</td>\n",
       "      <td>...</td>\n",
       "      <td>2.58829</td>\n",
       "      <td>2.06161</td>\n",
       "      <td>1.399200</td>\n",
       "      <td>0.843042</td>\n",
       "      <td>1.42070</td>\n",
       "      <td>2.14883</td>\n",
       "      <td>2.80279</td>\n",
       "      <td>1.56006</td>\n",
       "      <td>1.47751</td>\n",
       "      <td>1.411490</td>\n",
       "    </tr>\n",
       "    <tr>\n",
       "      <th>1004</th>\n",
       "      <td>1.158770</td>\n",
       "      <td>1.035140</td>\n",
       "      <td>1.788800</td>\n",
       "      <td>1.53851</td>\n",
       "      <td>1.65077</td>\n",
       "      <td>1.18351</td>\n",
       "      <td>1.89453</td>\n",
       "      <td>2.32298</td>\n",
       "      <td>1.032230</td>\n",
       "      <td>1.837570</td>\n",
       "      <td>...</td>\n",
       "      <td>2.64035</td>\n",
       "      <td>1.96069</td>\n",
       "      <td>1.642110</td>\n",
       "      <td>0.782498</td>\n",
       "      <td>1.40896</td>\n",
       "      <td>2.18960</td>\n",
       "      <td>2.69185</td>\n",
       "      <td>1.64699</td>\n",
       "      <td>1.59011</td>\n",
       "      <td>1.707140</td>\n",
       "    </tr>\n",
       "    <tr>\n",
       "      <th>...</th>\n",
       "      <td>...</td>\n",
       "      <td>...</td>\n",
       "      <td>...</td>\n",
       "      <td>...</td>\n",
       "      <td>...</td>\n",
       "      <td>...</td>\n",
       "      <td>...</td>\n",
       "      <td>...</td>\n",
       "      <td>...</td>\n",
       "      <td>...</td>\n",
       "      <td>...</td>\n",
       "      <td>...</td>\n",
       "      <td>...</td>\n",
       "      <td>...</td>\n",
       "      <td>...</td>\n",
       "      <td>...</td>\n",
       "      <td>...</td>\n",
       "      <td>...</td>\n",
       "      <td>...</td>\n",
       "      <td>...</td>\n",
       "      <td>...</td>\n",
       "    </tr>\n",
       "    <tr>\n",
       "      <th>1995</th>\n",
       "      <td>1.508960</td>\n",
       "      <td>0.997334</td>\n",
       "      <td>2.089480</td>\n",
       "      <td>1.22268</td>\n",
       "      <td>1.30300</td>\n",
       "      <td>1.41852</td>\n",
       "      <td>1.82898</td>\n",
       "      <td>1.68382</td>\n",
       "      <td>1.146630</td>\n",
       "      <td>1.727210</td>\n",
       "      <td>...</td>\n",
       "      <td>1.97970</td>\n",
       "      <td>1.79960</td>\n",
       "      <td>1.395570</td>\n",
       "      <td>0.438461</td>\n",
       "      <td>1.21216</td>\n",
       "      <td>2.10156</td>\n",
       "      <td>1.96645</td>\n",
       "      <td>1.24865</td>\n",
       "      <td>1.31920</td>\n",
       "      <td>0.988459</td>\n",
       "    </tr>\n",
       "    <tr>\n",
       "      <th>1996</th>\n",
       "      <td>1.050170</td>\n",
       "      <td>0.958935</td>\n",
       "      <td>2.131410</td>\n",
       "      <td>1.32374</td>\n",
       "      <td>1.31149</td>\n",
       "      <td>1.44735</td>\n",
       "      <td>1.64484</td>\n",
       "      <td>1.51311</td>\n",
       "      <td>1.179920</td>\n",
       "      <td>2.060690</td>\n",
       "      <td>...</td>\n",
       "      <td>2.13477</td>\n",
       "      <td>1.70340</td>\n",
       "      <td>1.016210</td>\n",
       "      <td>0.752775</td>\n",
       "      <td>1.25292</td>\n",
       "      <td>2.39632</td>\n",
       "      <td>2.54035</td>\n",
       "      <td>1.32659</td>\n",
       "      <td>1.34343</td>\n",
       "      <td>0.978638</td>\n",
       "    </tr>\n",
       "    <tr>\n",
       "      <th>1997</th>\n",
       "      <td>1.164250</td>\n",
       "      <td>0.874677</td>\n",
       "      <td>0.961786</td>\n",
       "      <td>1.82773</td>\n",
       "      <td>1.83528</td>\n",
       "      <td>1.14441</td>\n",
       "      <td>2.30284</td>\n",
       "      <td>2.32083</td>\n",
       "      <td>1.040540</td>\n",
       "      <td>0.958906</td>\n",
       "      <td>...</td>\n",
       "      <td>2.04954</td>\n",
       "      <td>1.86094</td>\n",
       "      <td>1.824660</td>\n",
       "      <td>0.643921</td>\n",
       "      <td>1.43506</td>\n",
       "      <td>2.73500</td>\n",
       "      <td>1.68575</td>\n",
       "      <td>1.89963</td>\n",
       "      <td>2.06260</td>\n",
       "      <td>1.626570</td>\n",
       "    </tr>\n",
       "    <tr>\n",
       "      <th>1998</th>\n",
       "      <td>1.397230</td>\n",
       "      <td>0.903395</td>\n",
       "      <td>0.963575</td>\n",
       "      <td>1.98884</td>\n",
       "      <td>1.48460</td>\n",
       "      <td>1.64808</td>\n",
       "      <td>2.50824</td>\n",
       "      <td>2.28359</td>\n",
       "      <td>0.943530</td>\n",
       "      <td>0.983263</td>\n",
       "      <td>...</td>\n",
       "      <td>1.90776</td>\n",
       "      <td>1.73378</td>\n",
       "      <td>1.903370</td>\n",
       "      <td>0.941654</td>\n",
       "      <td>1.44334</td>\n",
       "      <td>2.26589</td>\n",
       "      <td>1.87046</td>\n",
       "      <td>1.61575</td>\n",
       "      <td>1.63679</td>\n",
       "      <td>1.629830</td>\n",
       "    </tr>\n",
       "    <tr>\n",
       "      <th>1999</th>\n",
       "      <td>0.585516</td>\n",
       "      <td>0.904746</td>\n",
       "      <td>1.197490</td>\n",
       "      <td>1.93341</td>\n",
       "      <td>1.34937</td>\n",
       "      <td>1.74507</td>\n",
       "      <td>2.55242</td>\n",
       "      <td>1.96386</td>\n",
       "      <td>0.793458</td>\n",
       "      <td>1.003300</td>\n",
       "      <td>...</td>\n",
       "      <td>2.13459</td>\n",
       "      <td>1.91757</td>\n",
       "      <td>0.754809</td>\n",
       "      <td>0.664799</td>\n",
       "      <td>1.43176</td>\n",
       "      <td>2.85551</td>\n",
       "      <td>2.12467</td>\n",
       "      <td>1.85367</td>\n",
       "      <td>1.68908</td>\n",
       "      <td>1.623820</td>\n",
       "    </tr>\n",
       "  </tbody>\n",
       "</table>\n",
       "<p>1000 rows × 85 columns</p>\n",
       "</div>"
      ],
      "text/plain": [
       "          a[1]      a[2]      a[3]     a[4]     a[5]     a[6]     a[7]  \\\n",
       "1000  0.428724  0.868878  2.115320  1.46000  1.37931  1.35226  2.02063   \n",
       "1001  1.047240  1.079210  1.183760  2.08208  1.26307  1.62585  2.36256   \n",
       "1002  0.946077  0.873374  1.604390  1.64610  1.39462  1.80938  1.99228   \n",
       "1003  0.998932  0.963757  1.405450  1.51091  1.28083  1.31696  1.96558   \n",
       "1004  1.158770  1.035140  1.788800  1.53851  1.65077  1.18351  1.89453   \n",
       "...        ...       ...       ...      ...      ...      ...      ...   \n",
       "1995  1.508960  0.997334  2.089480  1.22268  1.30300  1.41852  1.82898   \n",
       "1996  1.050170  0.958935  2.131410  1.32374  1.31149  1.44735  1.64484   \n",
       "1997  1.164250  0.874677  0.961786  1.82773  1.83528  1.14441  2.30284   \n",
       "1998  1.397230  0.903395  0.963575  1.98884  1.48460  1.64808  2.50824   \n",
       "1999  0.585516  0.904746  1.197490  1.93341  1.34937  1.74507  2.55242   \n",
       "\n",
       "         a[8]      a[9]     a[10]  ...    a[76]    a[77]     a[78]     a[79]  \\\n",
       "1000  2.10238  0.797209  1.184270  ...  1.99383  1.40650  1.532060  0.805658   \n",
       "1001  2.27698  1.327030  1.878770  ...  2.12185  1.77536  1.118250 -0.007875   \n",
       "1002  2.02941  1.006400  1.133350  ...  1.40477  1.59374  1.273090  0.195319   \n",
       "1003  1.97383  1.100730  1.862260  ...  2.58829  2.06161  1.399200  0.843042   \n",
       "1004  2.32298  1.032230  1.837570  ...  2.64035  1.96069  1.642110  0.782498   \n",
       "...       ...       ...       ...  ...      ...      ...       ...       ...   \n",
       "1995  1.68382  1.146630  1.727210  ...  1.97970  1.79960  1.395570  0.438461   \n",
       "1996  1.51311  1.179920  2.060690  ...  2.13477  1.70340  1.016210  0.752775   \n",
       "1997  2.32083  1.040540  0.958906  ...  2.04954  1.86094  1.824660  0.643921   \n",
       "1998  2.28359  0.943530  0.983263  ...  1.90776  1.73378  1.903370  0.941654   \n",
       "1999  1.96386  0.793458  1.003300  ...  2.13459  1.91757  0.754809  0.664799   \n",
       "\n",
       "        a[80]    a[81]    a[82]    a[83]    a[84]     a[85]  \n",
       "1000  1.37991  1.87827  2.21093  1.89047  1.62477  0.829111  \n",
       "1001  1.38492  2.15267  2.31853  1.24316  1.87148  0.189064  \n",
       "1002  1.30675  3.00001  1.09937  1.70151  1.93195  1.016910  \n",
       "1003  1.42070  2.14883  2.80279  1.56006  1.47751  1.411490  \n",
       "1004  1.40896  2.18960  2.69185  1.64699  1.59011  1.707140  \n",
       "...       ...      ...      ...      ...      ...       ...  \n",
       "1995  1.21216  2.10156  1.96645  1.24865  1.31920  0.988459  \n",
       "1996  1.25292  2.39632  2.54035  1.32659  1.34343  0.978638  \n",
       "1997  1.43506  2.73500  1.68575  1.89963  2.06260  1.626570  \n",
       "1998  1.44334  2.26589  1.87046  1.61575  1.63679  1.629830  \n",
       "1999  1.43176  2.85551  2.12467  1.85367  1.68908  1.623820  \n",
       "\n",
       "[1000 rows x 85 columns]"
      ]
     },
     "execution_count": 202,
     "metadata": {},
     "output_type": "execute_result"
    }
   ],
   "source": [
    "sm_fixed_fit.draws_pd([\"a\"])[1000:]"
   ]
  },
  {
   "cell_type": "code",
   "execution_count": 209,
   "id": "c018a45d-fd79-4459-873d-56e7ce63db15",
   "metadata": {},
   "outputs": [
    {
     "data": {
      "text/plain": [
       "beta   -0.686358\n",
       "dtype: float64"
      ]
     },
     "execution_count": 209,
     "metadata": {},
     "output_type": "execute_result"
    }
   ],
   "source": [
    "sm_fixed_fit.draws_pd([\"beta\"])[1000:].mean()"
   ]
  },
  {
   "cell_type": "code",
   "execution_count": 211,
   "id": "f7d106bb-b9c6-4406-ba1e-fd9795eed8eb",
   "metadata": {},
   "outputs": [
    {
     "data": {
      "image/png": "[encoded data removed]",
      "text/plain": [
       "<Figure size 864x432 with 8 Axes>"
      ]
     },
     "metadata": {
      "needs_background": "light"
     },
     "output_type": "display_data"
    }
   ],
   "source": [
    "fig, axes = plt.subplots(2, 4, figsize=(12, 6), sharey=True, sharex=True)\n",
    "axes = axes.ravel()\n",
    "for i,c in enumerate(sample_counties):\n",
    "    \n",
    "    # Plot county data\n",
    "    y = srrs_mn.log_radon[srrs_mn.county==c]\n",
    "    x = srrs_mn.floor[srrs_mn.county==c]\n",
    "    axes[i].scatter(x + np.random.randn(len(x))*0.01, y, alpha=0.4)\n",
    "    \n",
    "    # No pooling model\n",
    "    # m,b = unpooled_estimates[['floor', c]]\n",
    "    # TODO: not sure this is correct translation of the line above\n",
    "    m = sm_fixed_fit.draws_pd([\"beta\"])[1000:].mean()[0]\n",
    "    b = unpooled_estimates[c]\n",
    "    \n",
    "    xvals = np.linspace(-0.2, 1.2)\n",
    "    # Unpooled estimate\n",
    "    axes[i].plot(xvals, m*xvals+b)\n",
    "    # Pooled estimate\n",
    "    axes[i].plot(xvals, m0*xvals+b0, 'r--')\n",
    "    # Partial pooling esimate\n",
    "    axes[i].plot(xvals, mp*xvals+bp[county_lookup[c]], 'k:')\n",
    "    axes[i].set_xticks([0,1])\n",
    "    axes[i].set_xticklabels(['basement', 'floor'])\n",
    "    axes[i].set_ylim(-1, 3)\n",
    "    axes[i].set_title(c)\n",
    "    if not i%2:\n",
    "        axes[i].set_ylabel('log radon level')"
   ]
  },
  {
   "cell_type": "markdown",
   "id": "c06bef64-a56b-4abe-80ca-ba3b27821434",
   "metadata": {},
   "source": [
    "## Varying slope model"
   ]
  },
  {
   "cell_type": "markdown",
   "id": "e326e690-3cd1-4fb1-a8db-983d056c745a",
   "metadata": {},
   "source": [
    "Alternatively, we can posit a model that allows the counties to vary according to how the location of measurement (basement or floor) influences the radon reading.\n",
    "\n",
    "`yi=α+βj[i]xi+ϵi`\n",
    " \n"
   ]
  },
  {
   "cell_type": "code",
   "execution_count": 213,
   "id": "d8ae283b-93f9-4713-929e-6271cf0aeb3c",
   "metadata": {},
   "outputs": [],
   "source": [
    "varying_slope_data = {'N': len(log_radon),\n",
    "                          'J': len(n_county),\n",
    "                          'county': county+1, # Stan counts starting at 1\n",
    "                          'x': floor_measure,\n",
    "                          'y': log_radon}"
   ]
  },
  {
   "cell_type": "code",
   "execution_count": 214,
   "id": "a71bc05f-876d-475c-9314-4fbd79348a2b",
   "metadata": {},
   "outputs": [
    {
     "name": "stderr",
     "output_type": "stream",
     "text": [
      "INFO:cmdstanpy:compiling stan program, exe file: /Users/steve/code/stan/stanspace/dkr/workbench/models/radon_vs\n",
      "INFO:cmdstanpy:compiler options: stanc_options=None, cpp_options=None\n",
      "INFO:cmdstanpy:compiled model file: /Users/steve/code/stan/stanspace/dkr/workbench/models/radon_vs\n"
     ]
    }
   ],
   "source": [
    "sm_vs = stan.CmdStanModel(stan_file='models/radon_vs.stan')"
   ]
  },
  {
   "cell_type": "code",
   "execution_count": 215,
   "id": "00f22ffd-e41f-4ebd-8fa7-0ea25d9ca6cb",
   "metadata": {},
   "outputs": [
    {
     "name": "stderr",
     "output_type": "stream",
     "text": [
      "INFO:cmdstanpy:start chain 1\n",
      "INFO:cmdstanpy:start chain 2\n",
      "INFO:cmdstanpy:finish chain 1\n",
      "INFO:cmdstanpy:finish chain 2\n"
     ]
    }
   ],
   "source": [
    "sm_vs_fit = sm_vs.sample(\n",
    "    data=varying_slope_data, \n",
    "    output_dir = 'output',\n",
    "    chains=2,\n",
    "    iter_warmup=1000,\n",
    "    iter_sampling=1000\n",
    ")"
   ]
  },
  {
   "cell_type": "code",
   "execution_count": 218,
   "id": "34f72913-a839-430d-9c09-c2c5b3fe5185",
   "metadata": {},
   "outputs": [
    {
     "data": {
      "text/html": [
       "<div>\n",
       "<style scoped>\n",
       "    .dataframe tbody tr th:only-of-type {\n",
       "        vertical-align: middle;\n",
       "    }\n",
       "\n",
       "    .dataframe tbody tr th {\n",
       "        vertical-align: top;\n",
       "    }\n",
       "\n",
       "    .dataframe thead th {\n",
       "        text-align: right;\n",
       "    }\n",
       "</style>\n",
       "<table border=\"1\" class=\"dataframe\">\n",
       "  <thead>\n",
       "    <tr style=\"text-align: right;\">\n",
       "      <th></th>\n",
       "      <th>b[1]</th>\n",
       "      <th>b[2]</th>\n",
       "      <th>b[3]</th>\n",
       "      <th>b[4]</th>\n",
       "      <th>b[5]</th>\n",
       "      <th>b[6]</th>\n",
       "      <th>b[7]</th>\n",
       "      <th>b[8]</th>\n",
       "      <th>b[9]</th>\n",
       "      <th>b[10]</th>\n",
       "      <th>...</th>\n",
       "      <th>b[76]</th>\n",
       "      <th>b[77]</th>\n",
       "      <th>b[78]</th>\n",
       "      <th>b[79]</th>\n",
       "      <th>b[80]</th>\n",
       "      <th>b[81]</th>\n",
       "      <th>b[82]</th>\n",
       "      <th>b[83]</th>\n",
       "      <th>b[84]</th>\n",
       "      <th>b[85]</th>\n",
       "    </tr>\n",
       "  </thead>\n",
       "  <tbody>\n",
       "    <tr>\n",
       "      <th>1000</th>\n",
       "      <td>-0.580397</td>\n",
       "      <td>-0.619925</td>\n",
       "      <td>-0.423991</td>\n",
       "      <td>-0.456305</td>\n",
       "      <td>-0.366163</td>\n",
       "      <td>-0.308434</td>\n",
       "      <td>-0.189324</td>\n",
       "      <td>-0.617005</td>\n",
       "      <td>-0.624859</td>\n",
       "      <td>-0.619752</td>\n",
       "      <td>...</td>\n",
       "      <td>-0.679857</td>\n",
       "      <td>-0.896141</td>\n",
       "      <td>-0.533759</td>\n",
       "      <td>-0.349698</td>\n",
       "      <td>-0.789150</td>\n",
       "      <td>-0.081215</td>\n",
       "      <td>-1.005610</td>\n",
       "      <td>-0.682562</td>\n",
       "      <td>-0.604639</td>\n",
       "      <td>-0.502676</td>\n",
       "    </tr>\n",
       "    <tr>\n",
       "      <th>1001</th>\n",
       "      <td>-0.625842</td>\n",
       "      <td>-1.118440</td>\n",
       "      <td>-0.523791</td>\n",
       "      <td>-0.789861</td>\n",
       "      <td>-0.496938</td>\n",
       "      <td>-0.957370</td>\n",
       "      <td>-0.461491</td>\n",
       "      <td>-0.031241</td>\n",
       "      <td>-0.425503</td>\n",
       "      <td>-0.789586</td>\n",
       "      <td>...</td>\n",
       "      <td>-0.549666</td>\n",
       "      <td>-0.463183</td>\n",
       "      <td>-0.618085</td>\n",
       "      <td>-0.884388</td>\n",
       "      <td>-0.739536</td>\n",
       "      <td>-0.873480</td>\n",
       "      <td>-0.655829</td>\n",
       "      <td>-1.076250</td>\n",
       "      <td>-0.666485</td>\n",
       "      <td>-0.723972</td>\n",
       "    </tr>\n",
       "    <tr>\n",
       "      <th>1002</th>\n",
       "      <td>-0.562709</td>\n",
       "      <td>-0.504809</td>\n",
       "      <td>-0.868057</td>\n",
       "      <td>-0.772507</td>\n",
       "      <td>-0.665562</td>\n",
       "      <td>-0.437483</td>\n",
       "      <td>-0.249767</td>\n",
       "      <td>-0.415684</td>\n",
       "      <td>-0.191782</td>\n",
       "      <td>-0.990527</td>\n",
       "      <td>...</td>\n",
       "      <td>-0.583709</td>\n",
       "      <td>-0.725737</td>\n",
       "      <td>-0.740720</td>\n",
       "      <td>-0.669540</td>\n",
       "      <td>-0.817759</td>\n",
       "      <td>0.009152</td>\n",
       "      <td>-0.356840</td>\n",
       "      <td>-0.703063</td>\n",
       "      <td>-0.687515</td>\n",
       "      <td>-0.619569</td>\n",
       "    </tr>\n",
       "    <tr>\n",
       "      <th>1003</th>\n",
       "      <td>-0.631575</td>\n",
       "      <td>-1.153920</td>\n",
       "      <td>-0.463825</td>\n",
       "      <td>-0.465625</td>\n",
       "      <td>-0.467142</td>\n",
       "      <td>-0.786120</td>\n",
       "      <td>-0.501833</td>\n",
       "      <td>-0.677957</td>\n",
       "      <td>-0.848684</td>\n",
       "      <td>-0.057434</td>\n",
       "      <td>...</td>\n",
       "      <td>-0.623095</td>\n",
       "      <td>-0.597026</td>\n",
       "      <td>-0.768023</td>\n",
       "      <td>-0.687375</td>\n",
       "      <td>-0.651035</td>\n",
       "      <td>-0.823695</td>\n",
       "      <td>-0.967328</td>\n",
       "      <td>-0.866496</td>\n",
       "      <td>-0.512107</td>\n",
       "      <td>-0.600453</td>\n",
       "    </tr>\n",
       "    <tr>\n",
       "      <th>1004</th>\n",
       "      <td>-0.027276</td>\n",
       "      <td>-0.561493</td>\n",
       "      <td>-0.623297</td>\n",
       "      <td>-0.679653</td>\n",
       "      <td>-0.665897</td>\n",
       "      <td>-0.197283</td>\n",
       "      <td>0.333022</td>\n",
       "      <td>-0.021156</td>\n",
       "      <td>0.033498</td>\n",
       "      <td>-0.914560</td>\n",
       "      <td>...</td>\n",
       "      <td>-0.333447</td>\n",
       "      <td>-0.594340</td>\n",
       "      <td>-0.871815</td>\n",
       "      <td>-0.719543</td>\n",
       "      <td>-0.943430</td>\n",
       "      <td>0.423637</td>\n",
       "      <td>-0.113620</td>\n",
       "      <td>-0.611063</td>\n",
       "      <td>-0.619386</td>\n",
       "      <td>-0.481957</td>\n",
       "    </tr>\n",
       "  </tbody>\n",
       "</table>\n",
       "<p>5 rows × 85 columns</p>\n",
       "</div>"
      ],
      "text/plain": [
       "          b[1]      b[2]      b[3]      b[4]      b[5]      b[6]      b[7]  \\\n",
       "1000 -0.580397 -0.619925 -0.423991 -0.456305 -0.366163 -0.308434 -0.189324   \n",
       "1001 -0.625842 -1.118440 -0.523791 -0.789861 -0.496938 -0.957370 -0.461491   \n",
       "1002 -0.562709 -0.504809 -0.868057 -0.772507 -0.665562 -0.437483 -0.249767   \n",
       "1003 -0.631575 -1.153920 -0.463825 -0.465625 -0.467142 -0.786120 -0.501833   \n",
       "1004 -0.027276 -0.561493 -0.623297 -0.679653 -0.665897 -0.197283  0.333022   \n",
       "\n",
       "          b[8]      b[9]     b[10]  ...     b[76]     b[77]     b[78]  \\\n",
       "1000 -0.617005 -0.624859 -0.619752  ... -0.679857 -0.896141 -0.533759   \n",
       "1001 -0.031241 -0.425503 -0.789586  ... -0.549666 -0.463183 -0.618085   \n",
       "1002 -0.415684 -0.191782 -0.990527  ... -0.583709 -0.725737 -0.740720   \n",
       "1003 -0.677957 -0.848684 -0.057434  ... -0.623095 -0.597026 -0.768023   \n",
       "1004 -0.021156  0.033498 -0.914560  ... -0.333447 -0.594340 -0.871815   \n",
       "\n",
       "         b[79]     b[80]     b[81]     b[82]     b[83]     b[84]     b[85]  \n",
       "1000 -0.349698 -0.789150 -0.081215 -1.005610 -0.682562 -0.604639 -0.502676  \n",
       "1001 -0.884388 -0.739536 -0.873480 -0.655829 -1.076250 -0.666485 -0.723972  \n",
       "1002 -0.669540 -0.817759  0.009152 -0.356840 -0.703063 -0.687515 -0.619569  \n",
       "1003 -0.687375 -0.651035 -0.823695 -0.967328 -0.866496 -0.512107 -0.600453  \n",
       "1004 -0.719543 -0.943430  0.423637 -0.113620 -0.611063 -0.619386 -0.481957  \n",
       "\n",
       "[5 rows x 85 columns]"
      ]
     },
     "execution_count": 218,
     "metadata": {},
     "output_type": "execute_result"
    }
   ],
   "source": [
    "sm_vs_posterior_b = sm_vs_fit.draws_pd([\"b\"])[1000:]\n",
    "sm_vs_posterior_b.head()"
   ]
  },
  {
   "cell_type": "code",
   "execution_count": 219,
   "id": "c5534eb0-f103-4acb-850e-d4fa0b310c8c",
   "metadata": {},
   "outputs": [
    {
     "data": {
      "text/plain": [
       "<AxesSubplot:>"
      ]
     },
     "execution_count": 219,
     "metadata": {},
     "output_type": "execute_result"
    },
    {
     "data": {
      "image/png": "[encoded data removed]",
      "text/plain": [
       "<Figure size 1152x432 with 1 Axes>"
      ]
     },
     "metadata": {
      "needs_background": "light"
     },
     "output_type": "display_data"
    }
   ],
   "source": [
    "# Plot the slope estimates\n",
    "plt.figure(figsize=(16, 6))\n",
    "sns.boxplot(data=sm_vs_posterior_b, whis=np.inf, color=\"c\")"
   ]
  },
  {
   "cell_type": "code",
   "execution_count": 220,
   "id": "93a4fc15-4e54-417c-8a6d-746f61141cd9",
   "metadata": {},
   "outputs": [
    {
     "data": {
      "image/png": "[encoded data removed]",
      "text/plain": [
       "<Figure size 432x288 with 1 Axes>"
      ]
     },
     "metadata": {
      "needs_background": "light"
     },
     "output_type": "display_data"
    }
   ],
   "source": [
    "xvals = np.arange(2)\n",
    "b = sm_vs_fit.draws_pd([\"a\"])[1000:].mean()[0]\n",
    "m = sm_vs_fit.draws_pd([\"b\"])[1000:].mean(axis=0)\n",
    "for mi in m:\n",
    "    plt.plot(xvals, mi*xvals + b, 'bo-', alpha=0.4)\n",
    "plt.xlim(-0.2, 1.2);"
   ]
  },
  {
   "cell_type": "code",
   "execution_count": null,
   "id": "3d2e99fd-bee9-4383-b736-f11e5e809053",
   "metadata": {},
   "outputs": [],
   "source": []
  }
 ],
 "metadata": {
  "kernelspec": {
   "display_name": "Python 3 (ipykernel)",
   "language": "python",
   "name": "python3"
  },
  "language_info": {
   "codemirror_mode": {
    "name": "ipython",
    "version": 3
   },
   "file_extension": ".py",
   "mimetype": "text/x-python",
   "name": "python",
   "nbconvert_exporter": "python",
   "pygments_lexer": "ipython3",
   "version": "3.8.10"
  }
 },
 "nbformat": 4,
 "nbformat_minor": 5
}
